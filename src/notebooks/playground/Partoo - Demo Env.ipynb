{
 "cells": [
  {
   "cell_type": "code",
   "execution_count": 2,
   "metadata": {},
   "outputs": [],
   "source": [
    "from dotenv import load_dotenv\n",
    "import os, sys\n",
    "load_dotenv('../../')\n",
    "\n",
    "sys.path.append(os.getenv('WORK_ENV'))\n",
    "sys.path.append(os.getenv('SQLAPP_MODULES'))\n"
   ]
  },
  {
   "cell_type": "code",
   "execution_count": 3,
   "metadata": {},
   "outputs": [
    {
     "name": "stderr",
     "output_type": "stream",
     "text": [
      "/Users/benamer/playgrounds/sqlapp/venv/lib/python2.7/site-packages/sqlalchemy/sql/schema.py:1226: SAWarning: Unicode column 'None' has non-unicode default value 'fr' specified.\n",
      "  self.default\n"
     ]
    }
   ],
   "source": [
    "\n",
    "from sqlapp import SqlApp\n",
    "from web.datalayer.publisher import Publisher\n",
    "from web.datalayer.provider_sql import ProviderSql\n",
    "from web.datalayer.country_code import CountryCode\n",
    "from web.datalayer.organization_publisher import OrganizationPublisher\n",
    "from web.datalayer.organization import Organization, SubscriptionProducts, ProductTypeChoices, OrganizationTypeEnum\n",
    "from shared.services.etl.org.org_subscription_service import (\n",
    "    SubscriptionService,\n",
    "    SubscriptionPeriod,\n",
    ")\n",
    "from web.datalayer.repositories import OrganizationRepository, PullerTriggerSqlRepository"
   ]
  },
  {
   "cell_type": "code",
   "execution_count": 10,
   "metadata": {},
   "outputs": [],
   "source": [
    "from web.datalayer.publisher_state import *"
   ]
  },
  {
   "cell_type": "code",
   "execution_count": 11,
   "metadata": {},
   "outputs": [],
   "source": [
    "s = SqlApp()"
   ]
  },
  {
   "cell_type": "code",
   "execution_count": 12,
   "metadata": {},
   "outputs": [],
   "source": [
    "s = SqlApp()\n",
    "s.connect('postgres://postgres@localhost:5432/partoo', echo=True)\n",
    "db_session = s.session"
   ]
  },
  {
   "cell_type": "code",
   "execution_count": 7,
   "metadata": {},
   "outputs": [],
   "source": [
    "db_session = s.session"
   ]
  },
  {
   "cell_type": "code",
   "execution_count": 13,
   "metadata": {},
   "outputs": [
    {
     "name": "stdout",
     "output_type": "stream",
     "text": [
      "2020-05-12 12:04:43,222 INFO sqlalchemy.engine.base.Engine select version()\n",
      "2020-05-12 12:04:43,224 INFO sqlalchemy.engine.base.Engine {}\n",
      "2020-05-12 12:04:43,236 INFO sqlalchemy.engine.base.Engine select current_schema()\n",
      "2020-05-12 12:04:43,238 INFO sqlalchemy.engine.base.Engine {}\n",
      "2020-05-12 12:04:43,250 INFO sqlalchemy.engine.base.Engine SELECT CAST('test plain returns' AS VARCHAR(60)) AS anon_1\n",
      "2020-05-12 12:04:43,252 INFO sqlalchemy.engine.base.Engine {}\n",
      "2020-05-12 12:04:43,257 INFO sqlalchemy.engine.base.Engine SELECT CAST('test unicode returns' AS VARCHAR(60)) AS anon_1\n",
      "2020-05-12 12:04:43,258 INFO sqlalchemy.engine.base.Engine {}\n",
      "2020-05-12 12:04:43,270 INFO sqlalchemy.engine.base.Engine show standard_conforming_strings\n",
      "2020-05-12 12:04:43,273 INFO sqlalchemy.engine.base.Engine {}\n",
      "2020-05-12 12:04:43,289 INFO sqlalchemy.engine.base.Engine BEGIN (implicit)\n",
      "2020-05-12 12:04:43,295 INFO sqlalchemy.engine.base.Engine SELECT publisher_state.publisher_name AS publisher_state_publisher_name, publisher_state.business_id AS publisher_state_business_id, publisher_state.business_url AS publisher_state_business_url, publisher_state.creation_date AS publisher_state_creation_date, publisher_state.update_date AS publisher_state_update_date, publisher_state.publisher_business_id AS publisher_state_publisher_business_id, publisher_state.overriding_state AS publisher_state_overriding_state, publisher_state.pusher_log_id AS publisher_state_pusher_log_id, publisher_state.photo_pusher_log_id AS publisher_state_photo_pusher_log_id, publisher_state.publisher_fetch_log_id AS publisher_state_publisher_fetch_log_id \n",
      "FROM publisher_state \n",
      "WHERE publisher_state.publisher_fetch_log_id = %(publisher_fetch_log_id_1)s \n",
      " LIMIT %(param_1)s\n",
      "2020-05-12 12:04:43,297 INFO sqlalchemy.engine.base.Engine {'publisher_fetch_log_id_1': 2546, 'param_1': 1}\n"
     ]
    }
   ],
   "source": [
    "ps = db_session.query(PublisherState).filter_by(publisher_fetch_log_id=2546).first()"
   ]
  },
  {
   "cell_type": "code",
   "execution_count": 14,
   "metadata": {},
   "outputs": [
    {
     "data": {
      "text/plain": [
       "{'_sa_instance_state': <sqlalchemy.orm.state.InstanceState at 0x118aa2fd0>,\n",
       " 'business_id': u'545f7bf982efa41a496379d2',\n",
       " 'business_url': None,\n",
       " 'creation_date': datetime.datetime(2020, 5, 12, 9, 45, 5, tzinfo=psycopg2.tz.FixedOffsetTimezone(offset=0, name=None)),\n",
       " 'overriding_state': <PartnerState.SUCCESS: u'SUCCESS'>,\n",
       " 'photo_pusher_log_id': None,\n",
       " 'publisher_business_id': None,\n",
       " 'publisher_fetch_log_id': 2546,\n",
       " 'publisher_name': u'pinterest',\n",
       " 'pusher_log_id': None,\n",
       " 'update_date': datetime.datetime(2020, 5, 12, 9, 58, 30, 614816, tzinfo=psycopg2.tz.FixedOffsetTimezone(offset=0, name=None))}"
      ]
     },
     "execution_count": 14,
     "metadata": {},
     "output_type": "execute_result"
    }
   ],
   "source": [
    "ps.__dict__"
   ]
  },
  {
   "cell_type": "code",
   "execution_count": 15,
   "metadata": {},
   "outputs": [
    {
     "data": {
      "text/plain": [
       "datetime.datetime(2020, 5, 12, 9, 58, 30, 614816, tzinfo=psycopg2.tz.FixedOffsetTimezone(offset=0, name=None))"
      ]
     },
     "execution_count": 15,
     "metadata": {},
     "output_type": "execute_result"
    }
   ],
   "source": [
    "ps.update_date"
   ]
  },
  {
   "cell_type": "code",
   "execution_count": 16,
   "metadata": {},
   "outputs": [],
   "source": [
    "ps.overriding_state = 'ERROR'"
   ]
  },
  {
   "cell_type": "code",
   "execution_count": 17,
   "metadata": {},
   "outputs": [
    {
     "name": "stdout",
     "output_type": "stream",
     "text": [
      "2020-05-12 12:05:29,606 INFO sqlalchemy.engine.base.Engine UPDATE publisher_state SET update_date=now(), overriding_state=%(overriding_state)s WHERE publisher_state.publisher_name = %(publisher_state_publisher_name)s AND publisher_state.business_id = %(publisher_state_business_id)s\n",
      "2020-05-12 12:05:29,607 INFO sqlalchemy.engine.base.Engine {'publisher_state_publisher_name': u'pinterest', 'publisher_state_business_id': u'545f7bf982efa41a496379d2', 'overriding_state': u'ERROR'}\n",
      "2020-05-12 12:05:29,615 INFO sqlalchemy.engine.base.Engine COMMIT\n"
     ]
    }
   ],
   "source": [
    "db_session.commit()"
   ]
  },
  {
   "cell_type": "code",
   "execution_count": 18,
   "metadata": {},
   "outputs": [
    {
     "name": "stdout",
     "output_type": "stream",
     "text": [
      "2020-05-12 12:05:47,890 INFO sqlalchemy.engine.base.Engine BEGIN (implicit)\n",
      "2020-05-12 12:05:47,896 INFO sqlalchemy.engine.base.Engine SELECT publisher_state.publisher_name AS publisher_state_publisher_name, publisher_state.business_id AS publisher_state_business_id, publisher_state.business_url AS publisher_state_business_url, publisher_state.creation_date AS publisher_state_creation_date, publisher_state.update_date AS publisher_state_update_date, publisher_state.publisher_business_id AS publisher_state_publisher_business_id, publisher_state.overriding_state AS publisher_state_overriding_state, publisher_state.pusher_log_id AS publisher_state_pusher_log_id, publisher_state.photo_pusher_log_id AS publisher_state_photo_pusher_log_id, publisher_state.publisher_fetch_log_id AS publisher_state_publisher_fetch_log_id \n",
      "FROM publisher_state \n",
      "WHERE publisher_state.publisher_name = %(param_1)s AND publisher_state.business_id = %(param_2)s\n",
      "2020-05-12 12:05:47,899 INFO sqlalchemy.engine.base.Engine {'param_1': u'pinterest', 'param_2': u'545f7bf982efa41a496379d2'}\n"
     ]
    },
    {
     "data": {
      "text/plain": [
       "datetime.datetime(2020, 5, 12, 10, 4, 43, 306599, tzinfo=psycopg2.tz.FixedOffsetTimezone(offset=0, name=None))"
      ]
     },
     "execution_count": 18,
     "metadata": {},
     "output_type": "execute_result"
    }
   ],
   "source": [
    "ps.update_date"
   ]
  },
  {
   "cell_type": "code",
   "execution_count": null,
   "metadata": {},
   "outputs": [],
   "source": []
  },
  {
   "cell_type": "code",
   "execution_count": null,
   "metadata": {},
   "outputs": [],
   "source": []
  },
  {
   "cell_type": "code",
   "execution_count": null,
   "metadata": {},
   "outputs": [],
   "source": []
  },
  {
   "cell_type": "code",
   "execution_count": null,
   "metadata": {},
   "outputs": [],
   "source": [
    "from web.datalayer.publisher import Publisher\n",
    "from web.datalayer.provider_sql import ProviderSql\n",
    "from web.datalayer.country_code import CountryCode\n",
    "from web.datalayer.organization_publisher import OrganizationPublisher\n",
    "from web.datalayer.organization import (\n",
    "    Organization, SubscriptionProducts,\n",
    "    ProductTypeChoices, OrganizationTypeEnum,\n",
    ")\n",
    "from web.utils.psql_connection import get_session\n",
    "\n",
    "\n",
    "\n",
    "\n",
    "\n",
    "def check_by_provider(provider):\n",
    "    def checkEqual(iterator):\n",
    "        iterator = iter(iterator)\n",
    "        try:\n",
    "            first = next(iterator)\n",
    "        except StopIteration:\n",
    "            return True\n",
    "\n",
    "        return all(first == rest for rest in iterator)\n",
    "\n",
    "    orgs = orgs_by_providers.get(provider)\n",
    "    publishers_by_org = [\n",
    "        [ publisher for publisher in org.publishers ] for org in orgs\n",
    "    ]\n",
    "\n",
    "    return checkEqual(publishers_by_org)\n",
    "\n",
    "\n",
    "def prRed(prt):\n",
    "    print(\"\\033[91m {}\\033[00m\" .format(prt))\n",
    "\n",
    "\n",
    "def prGreen(prt):\n",
    "    print(\"\\033[92m {}\\033[00m\" .format(prt))\n",
    "\n",
    "\n",
    "# db_session = get_session()\n",
    "\n",
    "items = db_session.query(ProviderSql).with_entities(\n",
    "    ProviderSql.label\n",
    ").filter(ProviderSql.label != 'partoo').all()\n",
    "providers = [item[0] for item in items]\n",
    "\n",
    "orgs = db_session.query(Organization).filter(\n",
    "    Organization.provider.in_(providers)\n",
    ").all()\n",
    "\n",
    "orgs_by_providers = {provider: [] for provider in providers}\n",
    "for org in orgs:\n",
    "    orgs_by_providers[org.provider].append(org)\n",
    "\n",
    "for provider in providers:\n",
    "    check = check_by_provider(provider)\n",
    "\n",
    "    if check:\n",
    "        prGreen('{} : OK!'.format(provider))\n",
    "    else:\n",
    "        prRed('{} : KO!'.format(provider))\n"
   ]
  },
  {
   "cell_type": "code",
   "execution_count": null,
   "metadata": {},
   "outputs": [],
   "source": [
    "db_session.rollback()"
   ]
  },
  {
   "cell_type": "code",
   "execution_count": null,
   "metadata": {},
   "outputs": [],
   "source": []
  }
 ],
 "metadata": {
  "kernelspec": {
   "display_name": "Python 2.7.10 64-bit ('venv': virtualenv)",
   "language": "python",
   "name": "python271064bitvenvvirtualenv1a07f65bb6354fa290c891f1a3619685"
  },
  "language_info": {
   "codemirror_mode": {
    "name": "ipython",
    "version": 2
   },
   "file_extension": ".py",
   "mimetype": "text/x-python",
   "name": "python",
   "nbconvert_exporter": "python",
   "pygments_lexer": "ipython2",
   "version": "2.7.10"
  }
 },
 "nbformat": 4,
 "nbformat_minor": 2
}
