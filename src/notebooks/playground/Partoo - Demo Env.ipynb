{
 "cells": [
  {
   "cell_type": "code",
   "execution_count": 2,
   "metadata": {},
   "outputs": [
    {
     "name": "stderr",
     "output_type": "stream",
     "text": [
      "UsageError: Line magic function `%export` not found.\n"
     ]
    }
   ],
   "source": [
    "%export PARTOO_CONFIG_FILE=${HOME}/partoo/development.ini\n",
    "from sqlapp import SqlApp\n",
    "from web.datalayer.partner_ref import AvailableCountryCodes\n",
    "from web.datalayer.organization import Organization\n",
    "from web.datalayer.business_partners_sql import OrganizationPublisher\n",
    "from web.datalayer.publisher import Publisher, PublisherField\n",
    "from web.datalayer.country_code import CountryCode"
   ]
  },
  {
   "cell_type": "code",
   "execution_count": 3,
   "metadata": {},
   "outputs": [
    {
     "data": {
      "text/plain": [
       "{'Apple_PubSub_Socket_Render': '/private/tmp/com.apple.launchd.6q5TdLE6so/Render',\n",
       " 'CLICOLOR': '1',\n",
       " 'COLORTERM': 'truecolor',\n",
       " 'COMMAND_MODE': 'unix2003',\n",
       " 'GIT_PAGER': 'cat',\n",
       " 'HOME': '/Users/iLak',\n",
       " 'JPY_PARENT_PID': '83479',\n",
       " 'LANG': 'en_GB.UTF-8',\n",
       " 'LC_CTYPE': 'en_GB.UTF-8',\n",
       " 'LESS': '-R',\n",
       " 'LOGNAME': 'iLak',\n",
       " 'LSCOLORS': 'Gxfxcxdxbxegedabagacad',\n",
       " 'MPLBACKEND': 'module://ipykernel.pylab.backend_inline',\n",
       " 'NVM_CD_FLAGS': '-q',\n",
       " 'NVM_DIR': '/Users/iLak/.nvm',\n",
       " 'OLDPWD': '/Users/iLak/sqla',\n",
       " 'PAGER': 'cat',\n",
       " 'PATH': '/Users/iLak/sqla/venv/bin:/Users/iLak/.yarn/bin:/Users/iLak/.config/yarn/global/node_modules/.bin:/Library/Frameworks/Python.framework/Versions/3.7/bin:/Library/Frameworks/Python.framework/Versions/3.6/bin:/usr/local/bin:/usr/bin:/bin:/usr/sbin:/sbin:/Users/iLak/.yarn/bin:/Users/iLak/.config/yarn/global/node_modules/.bin:/Library/Frameworks/Python.framework/Versions/3.7/bin:/Library/Frameworks/Python.framework/Versions/3.6/bin',\n",
       " 'PS1': '(venv) ',\n",
       " 'PWD': '/Users/iLak/sqla/src/notebooks',\n",
       " 'PYTHONPATH': ':/Users/iLak/partoo:/Users/iLak/sqla/src/',\n",
       " 'SECURITYSESSIONID': '186a7',\n",
       " 'SHELL': '/bin/zsh',\n",
       " 'SHLVL': '3',\n",
       " 'SSH_AUTH_SOCK': '/private/tmp/com.apple.launchd.D9qsTKpoTD/Listeners',\n",
       " 'TERM': 'xterm-color',\n",
       " 'TERM_PROGRAM': 'vscode',\n",
       " 'TERM_PROGRAM_VERSION': '1.40.0',\n",
       " 'TMPDIR': '/var/folders/0w/1v2vg6rd2j76hffqg3zylj8m0000gn/T/',\n",
       " 'USER': 'iLak',\n",
       " 'VAGRANT_HOME': '/Users/iLak/vm/vagrant',\n",
       " 'VIRTUAL_ENV': '/Users/iLak/sqla/venv',\n",
       " 'XPC_FLAGS': '0x0',\n",
       " 'XPC_SERVICE_NAME': '0',\n",
       " 'ZSH': '/Users/iLak/.oh-my-zsh',\n",
       " '_': '/Users/iLak/sqla/venv/bin/python',\n",
       " '__CF_USER_TEXT_ENCODING': '0x1F5:0x0:0x0'}"
      ]
     },
     "execution_count": 3,
     "metadata": {},
     "output_type": "execute_result"
    }
   ],
   "source": [
    "env"
   ]
  },
  {
   "cell_type": "code",
   "execution_count": 2,
   "metadata": {},
   "outputs": [],
   "source": [
    "s = SqlApp()"
   ]
  },
  {
   "cell_type": "code",
   "execution_count": 3,
   "metadata": {},
   "outputs": [],
   "source": [
    "s.connect('postgres://postgres@localhost:5432/partoo')"
   ]
  },
  {
   "cell_type": "code",
   "execution_count": 4,
   "metadata": {},
   "outputs": [
    {
     "name": "stdout",
     "output_type": "stream",
     "text": [
      "2020-02-09 02:37:00,603 INFO sqlalchemy.engine.base.Engine select version()\n",
      "2020-02-09 02:37:00,604 INFO sqlalchemy.engine.base.Engine {}\n",
      "2020-02-09 02:37:00,610 INFO sqlalchemy.engine.base.Engine select current_schema()\n",
      "2020-02-09 02:37:00,612 INFO sqlalchemy.engine.base.Engine {}\n",
      "2020-02-09 02:37:00,618 INFO sqlalchemy.engine.base.Engine SELECT CAST('test plain returns' AS VARCHAR(60)) AS anon_1\n",
      "2020-02-09 02:37:00,620 INFO sqlalchemy.engine.base.Engine {}\n",
      "2020-02-09 02:37:00,624 INFO sqlalchemy.engine.base.Engine SELECT CAST('test unicode returns' AS VARCHAR(60)) AS anon_1\n",
      "2020-02-09 02:37:00,626 INFO sqlalchemy.engine.base.Engine {}\n",
      "2020-02-09 02:37:00,635 INFO sqlalchemy.engine.base.Engine show standard_conforming_strings\n",
      "2020-02-09 02:37:00,637 INFO sqlalchemy.engine.base.Engine {}\n",
      "2020-02-09 02:37:00,642 INFO sqlalchemy.engine.base.Engine BEGIN (implicit)\n",
      "2020-02-09 02:37:00,645 INFO sqlalchemy.engine.base.Engine SELECT publishers.name AS publishers_name, publishers.formatted_name AS publishers_formatted_name, publishers.status AS publishers_status, publishers.configuration_required AS publishers_configuration_required, publishers.\"order\" AS publishers_order, publishers.hidden_by_default AS publishers_hidden_by_default, publishers.pm_latency_amount AS publishers_pm_latency_amount, publishers.pm_latency_unit AS publishers_pm_latency_unit, publishers.pm_method AS publishers_pm_method, publishers.pm_gateway_partner AS publishers_pm_gateway_partner, publishers.pm_siret_required AS publishers_pm_siret_required, publishers.pm_description_short_required AS publishers_pm_description_short_required, publishers.pm_phone_required AS publishers_pm_phone_required, publishers.mongo_id AS publishers_mongo_id \n",
      "FROM publishers \n",
      "WHERE publishers.name = %(name_1)s \n",
      " LIMIT %(param_1)s\n",
      "2020-02-09 02:37:00,647 INFO sqlalchemy.engine.base.Engine {'name_1': 'partoo', 'param_1': 1}\n"
     ]
    }
   ],
   "source": [
    "p = s.session.query(Publisher).filter_by(name='partoo').first()"
   ]
  },
  {
   "cell_type": "code",
   "execution_count": 5,
   "metadata": {},
   "outputs": [
    {
     "name": "stdout",
     "output_type": "stream",
     "text": [
      "2020-02-09 02:37:03,447 INFO sqlalchemy.engine.base.Engine SELECT country_code.id AS country_code_id, country_code.code AS country_code_code \n",
      "FROM country_code, publisher__country_code \n",
      "WHERE %(param_1)s = publisher__country_code.publisher_name AND country_code.id = publisher__country_code.country_code_id\n",
      "2020-02-09 02:37:03,448 INFO sqlalchemy.engine.base.Engine {'param_1': u'partoo'}\n"
     ]
    },
    {
     "data": {
      "text/plain": [
       "[<CountryCode(id=3, code=AvailableCountryCodes.FR)>,\n",
       " <CountryCode(id=4, code=AvailableCountryCodes.IT)>]"
      ]
     },
     "execution_count": 5,
     "metadata": {},
     "output_type": "execute_result"
    }
   ],
   "source": [
    "p.country_codes"
   ]
  },
  {
   "cell_type": "code",
   "execution_count": null,
   "metadata": {},
   "outputs": [],
   "source": []
  }
 ],
 "metadata": {
  "kernelspec": {
   "display_name": "Python 2",
   "language": "python",
   "name": "python2"
  },
  "language_info": {
   "codemirror_mode": {
    "name": "ipython",
    "version": 2
   },
   "file_extension": ".py",
   "mimetype": "text/x-python",
   "name": "python",
   "nbconvert_exporter": "python",
   "pygments_lexer": "ipython2",
   "version": "2.7.13"
  }
 },
 "nbformat": 4,
 "nbformat_minor": 2
}
