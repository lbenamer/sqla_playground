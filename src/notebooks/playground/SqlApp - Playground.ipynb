{
 "cells": [
  {
   "cell_type": "code",
   "execution_count": 1,
   "metadata": {},
   "outputs": [],
   "source": [
    "from sqlapp import SqlApp"
   ]
  },
  {
   "cell_type": "code",
   "execution_count": 2,
   "metadata": {},
   "outputs": [],
   "source": [
    "s = SqlApp()\n",
    "s.connect('postgresql://postgres@localhost:5532/sqlapp')"
   ]
  },
  {
   "cell_type": "code",
   "execution_count": 3,
   "metadata": {},
   "outputs": [
    {
     "name": "stdout",
     "output_type": "stream",
     "text": [
      "2020-02-23 11:49:27,925 INFO sqlalchemy.engine.base.Engine select version()\n",
      "2020-02-23 11:49:27,929 INFO sqlalchemy.engine.base.Engine {}\n",
      "2020-02-23 11:49:27,952 INFO sqlalchemy.engine.base.Engine select current_schema()\n",
      "2020-02-23 11:49:27,954 INFO sqlalchemy.engine.base.Engine {}\n",
      "2020-02-23 11:49:27,964 INFO sqlalchemy.engine.base.Engine SELECT CAST('test plain returns' AS VARCHAR(60)) AS anon_1\n",
      "2020-02-23 11:49:27,966 INFO sqlalchemy.engine.base.Engine {}\n",
      "2020-02-23 11:49:27,972 INFO sqlalchemy.engine.base.Engine SELECT CAST('test unicode returns' AS VARCHAR(60)) AS anon_1\n",
      "2020-02-23 11:49:27,976 INFO sqlalchemy.engine.base.Engine {}\n",
      "2020-02-23 11:49:27,994 INFO sqlalchemy.engine.base.Engine show standard_conforming_strings\n",
      "2020-02-23 11:49:27,995 INFO sqlalchemy.engine.base.Engine {}\n",
      "2020-02-23 11:49:28,004 INFO sqlalchemy.engine.base.Engine select relname from pg_class c join pg_namespace n on n.oid=c.relnamespace where pg_catalog.pg_table_is_visible(c.oid) and relname=%(name)s\n",
      "2020-02-23 11:49:28,009 INFO sqlalchemy.engine.base.Engine {'name': u'user'}\n",
      "2020-02-23 11:49:28,018 INFO sqlalchemy.engine.base.Engine \n",
      "CREATE TABLE \"user\" (\n",
      "\tid SERIAL NOT NULL, \n",
      "\tname VARCHAR NOT NULL, \n",
      "\tcity VARCHAR NOT NULL, \n",
      "\tPRIMARY KEY (id)\n",
      ")\n",
      "\n",
      "\n",
      "2020-02-23 11:49:28,025 INFO sqlalchemy.engine.base.Engine {}\n",
      "2020-02-23 11:49:28,053 INFO sqlalchemy.engine.base.Engine COMMIT\n"
     ]
    }
   ],
   "source": [
    "from sqlalchemy import Column, Integer, String\n",
    "\n",
    "Base = s.Base\n",
    "\n",
    "class User(Base):\n",
    "    __tablename__ = 'user'\n",
    "    id = Column(Integer,\n",
    "        primary_key=True,\n",
    "        nullable=False,\n",
    "    )\n",
    "    name = Column(String(), nullable=False)\n",
    "    city = Column(String(), nullable=False)\n",
    "\n",
    "# Create user table in db\n",
    "s.create_models(Base)"
   ]
  },
  {
   "cell_type": "code",
   "execution_count": 4,
   "metadata": {},
   "outputs": [
    {
     "name": "stdout",
     "output_type": "stream",
     "text": [
      "2020-02-23 11:49:30,339 INFO sqlalchemy.engine.base.Engine BEGIN (implicit)\n",
      "2020-02-23 11:49:30,343 INFO sqlalchemy.engine.base.Engine INSERT INTO \"user\" (name, city) VALUES (%(name)s, %(city)s) RETURNING \"user\".id\n",
      "2020-02-23 11:49:30,352 INFO sqlalchemy.engine.base.Engine {'city': 'Djerba', 'name': 'Walid'}\n",
      "2020-02-23 11:49:30,371 INFO sqlalchemy.engine.base.Engine INSERT INTO \"user\" (name, city) VALUES (%(name)s, %(city)s) RETURNING \"user\".id\n",
      "2020-02-23 11:49:30,373 INFO sqlalchemy.engine.base.Engine {'city': 'Tours', 'name': 'Mathias'}\n",
      "2020-02-23 11:49:30,380 INFO sqlalchemy.engine.base.Engine COMMIT\n"
     ]
    }
   ],
   "source": [
    "ROWS = [\n",
    "    { 'name': 'Walid', 'city': 'Djerba' },\n",
    "    { 'name': 'Mathias', 'city': 'Tours' },\n",
    "]\n",
    "\n",
    "s.populate(User, ROWS)"
   ]
  },
  {
   "cell_type": "code",
   "execution_count": 5,
   "metadata": {},
   "outputs": [
    {
     "name": "stdout",
     "output_type": "stream",
     "text": [
      "2020-02-23 11:49:30,617 INFO sqlalchemy.engine.base.Engine BEGIN (implicit)\n",
      "2020-02-23 11:49:30,621 INFO sqlalchemy.engine.base.Engine INSERT INTO \"user\" (name, city) VALUES (%(name)s, %(city)s) RETURNING \"user\".id\n",
      "2020-02-23 11:49:30,625 INFO sqlalchemy.engine.base.Engine {'city': 'paris', 'name': 'player'}\n",
      "2020-02-23 11:49:30,637 INFO sqlalchemy.engine.base.Engine COMMIT\n"
     ]
    }
   ],
   "source": [
    "user = User(name='player', city='paris')\n",
    "\n",
    "s.create(user)"
   ]
  },
  {
   "cell_type": "code",
   "execution_count": 6,
   "metadata": {},
   "outputs": [
    {
     "name": "stdout",
     "output_type": "stream",
     "text": [
      "2020-02-23 11:49:31,905 INFO sqlalchemy.engine.base.Engine BEGIN (implicit)\n",
      "2020-02-23 11:49:31,908 INFO sqlalchemy.engine.base.Engine SELECT \"user\".id AS user_id, \"user\".name AS user_name, \"user\".city AS user_city \n",
      "FROM \"user\" \n",
      "WHERE \"user\".name = %(name_1)s \n",
      " LIMIT %(param_1)s\n",
      "2020-02-23 11:49:31,912 INFO sqlalchemy.engine.base.Engine {'name_1': 'player', 'param_1': 1}\n"
     ]
    },
    {
     "data": {
      "text/plain": [
       "u'paris'"
      ]
     },
     "execution_count": 6,
     "metadata": {},
     "output_type": "execute_result"
    }
   ],
   "source": [
    "player = s.session.query(User).filter_by(name='player').first()\n",
    "\n",
    "player.city"
   ]
  },
  {
   "cell_type": "code",
   "execution_count": null,
   "metadata": {},
   "outputs": [],
   "source": []
  }
 ],
 "metadata": {
  "kernelspec": {
   "display_name": "Python 2",
   "language": "python",
   "name": "python2"
  },
  "language_info": {
   "codemirror_mode": {
    "name": "ipython",
    "version": 2
   },
   "file_extension": ".py",
   "mimetype": "text/x-python",
   "name": "python",
   "nbconvert_exporter": "python",
   "pygments_lexer": "ipython2",
   "version": "2.7.13"
  }
 },
 "nbformat": 4,
 "nbformat_minor": 2
}
