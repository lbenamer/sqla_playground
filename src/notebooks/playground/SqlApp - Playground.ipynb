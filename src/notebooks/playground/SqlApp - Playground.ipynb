{
 "cells": [
  {
   "cell_type": "code",
   "execution_count": 7,
   "metadata": {},
   "outputs": [],
   "source": [
    "from sqlapp import SqlApp"
   ]
  },
  {
   "cell_type": "code",
   "execution_count": 8,
   "metadata": {},
   "outputs": [],
   "source": [
    "s = SqlApp()\n",
    "s.connect('postgresql://postgres@localhost:5532/sqlapp')"
   ]
  },
  {
   "cell_type": "code",
   "execution_count": 9,
   "metadata": {},
   "outputs": [
    {
     "name": "stdout",
     "output_type": "stream",
     "text": [
      "2020-02-19 17:15:39,248 INFO sqlalchemy.engine.base.Engine select version()\n",
      "2020-02-19 17:15:39,250 INFO sqlalchemy.engine.base.Engine {}\n",
      "2020-02-19 17:15:39,256 INFO sqlalchemy.engine.base.Engine select current_schema()\n",
      "2020-02-19 17:15:39,257 INFO sqlalchemy.engine.base.Engine {}\n",
      "2020-02-19 17:15:39,270 INFO sqlalchemy.engine.base.Engine SELECT CAST('test plain returns' AS VARCHAR(60)) AS anon_1\n",
      "2020-02-19 17:15:39,271 INFO sqlalchemy.engine.base.Engine {}\n",
      "2020-02-19 17:15:39,275 INFO sqlalchemy.engine.base.Engine SELECT CAST('test unicode returns' AS VARCHAR(60)) AS anon_1\n",
      "2020-02-19 17:15:39,277 INFO sqlalchemy.engine.base.Engine {}\n",
      "2020-02-19 17:15:39,286 INFO sqlalchemy.engine.base.Engine show standard_conforming_strings\n",
      "2020-02-19 17:15:39,288 INFO sqlalchemy.engine.base.Engine {}\n",
      "2020-02-19 17:15:39,295 INFO sqlalchemy.engine.base.Engine select relname from pg_class c join pg_namespace n on n.oid=c.relnamespace where pg_catalog.pg_table_is_visible(c.oid) and relname=%(name)s\n",
      "2020-02-19 17:15:39,296 INFO sqlalchemy.engine.base.Engine {'name': u'user'}\n"
     ]
    }
   ],
   "source": [
    "from sqlalchemy import Column, Integer, String\n",
    "\n",
    "Base = s.Base\n",
    "\n",
    "class User(Base):\n",
    "    __tablename__ = 'user'\n",
    "    id = Column(Integer,\n",
    "        primary_key=True,\n",
    "        nullable=False,\n",
    "    )\n",
    "    name = Column(String(), nullable=False)\n",
    "    city = Column(String(), nullable=False)\n",
    "\n",
    "# Create user table in db\n",
    "s.create_models(Base)"
   ]
  },
  {
   "cell_type": "code",
   "execution_count": 10,
   "metadata": {},
   "outputs": [
    {
     "name": "stdout",
     "output_type": "stream",
     "text": [
      "2020-02-19 17:15:44,693 INFO sqlalchemy.engine.base.Engine BEGIN (implicit)\n",
      "2020-02-19 17:15:44,698 INFO sqlalchemy.engine.base.Engine INSERT INTO \"user\" (name, city) VALUES (%(name)s, %(city)s) RETURNING \"user\".id\n",
      "2020-02-19 17:15:44,699 INFO sqlalchemy.engine.base.Engine {'city': 'Djerba', 'name': 'Walid'}\n",
      "2020-02-19 17:15:44,707 INFO sqlalchemy.engine.base.Engine INSERT INTO \"user\" (name, city) VALUES (%(name)s, %(city)s) RETURNING \"user\".id\n",
      "2020-02-19 17:15:44,709 INFO sqlalchemy.engine.base.Engine {'city': 'Tours', 'name': 'Mathias'}\n",
      "2020-02-19 17:15:44,716 INFO sqlalchemy.engine.base.Engine COMMIT\n"
     ]
    }
   ],
   "source": [
    "ROWS = [\n",
    "    { 'name': 'Walid', 'city': 'Djerba' },\n",
    "    { 'name': 'Mathias', 'city': 'Tours' },\n",
    "]\n",
    "\n",
    "s.populate(User, ROWS)"
   ]
  },
  {
   "cell_type": "code",
   "execution_count": 11,
   "metadata": {},
   "outputs": [
    {
     "name": "stdout",
     "output_type": "stream",
     "text": [
      "2020-02-19 17:15:48,964 INFO sqlalchemy.engine.base.Engine BEGIN (implicit)\n",
      "2020-02-19 17:15:48,966 INFO sqlalchemy.engine.base.Engine INSERT INTO \"user\" (name, city) VALUES (%(name)s, %(city)s) RETURNING \"user\".id\n",
      "2020-02-19 17:15:48,968 INFO sqlalchemy.engine.base.Engine {'city': 'paris', 'name': 'player'}\n",
      "2020-02-19 17:15:48,974 INFO sqlalchemy.engine.base.Engine COMMIT\n"
     ]
    }
   ],
   "source": [
    "user = User(name='player', city='paris')\n",
    "\n",
    "s.create(user)"
   ]
  },
  {
   "cell_type": "code",
   "execution_count": 12,
   "metadata": {},
   "outputs": [
    {
     "name": "stdout",
     "output_type": "stream",
     "text": [
      "2020-02-19 17:15:50,899 INFO sqlalchemy.engine.base.Engine BEGIN (implicit)\n",
      "2020-02-19 17:15:50,902 INFO sqlalchemy.engine.base.Engine SELECT \"user\".id AS user_id, \"user\".name AS user_name, \"user\".city AS user_city \n",
      "FROM \"user\" \n",
      "WHERE \"user\".name = %(name_1)s \n",
      " LIMIT %(param_1)s\n",
      "2020-02-19 17:15:50,903 INFO sqlalchemy.engine.base.Engine {'name_1': 'player', 'param_1': 1}\n"
     ]
    },
    {
     "data": {
      "text/plain": [
       "u'paris'"
      ]
     },
     "execution_count": 12,
     "metadata": {},
     "output_type": "execute_result"
    }
   ],
   "source": [
    "player = s.session.query(User).filter_by(name='player').first()\n",
    "\n",
    "player.city"
   ]
  },
  {
   "cell_type": "code",
   "execution_count": null,
   "metadata": {},
   "outputs": [],
   "source": []
  }
 ],
 "metadata": {
  "kernelspec": {
   "display_name": "Python 3",
   "language": "python",
   "name": "python3"
  },
  "language_info": {
   "codemirror_mode": {
    "name": "ipython",
    "version": 2
   },
   "file_extension": ".py",
   "mimetype": "text/x-python",
   "name": "python",
   "nbconvert_exporter": "python",
   "pygments_lexer": "ipython2",
   "version": "2.7.10"
  }
 },
 "nbformat": 4,
 "nbformat_minor": 2
}
