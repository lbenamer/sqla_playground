{
 "cells": [
  {
   "cell_type": "code",
   "execution_count": 1,
   "metadata": {},
   "outputs": [],
   "source": [
    "from sqlapp import SqlApp"
   ]
  },
  {
   "cell_type": "code",
   "execution_count": 2,
   "metadata": {},
   "outputs": [],
   "source": [
    "s = SqlApp()\n",
    "s.connect('postgresql://postgres@localhost:5532/sqlapp')"
   ]
  },
  {
   "cell_type": "code",
   "execution_count": 3,
   "metadata": {},
   "outputs": [
    {
     "name": "stdout",
     "output_type": "stream",
     "text": [
      "2020-02-19 15:43:31,722 INFO sqlalchemy.engine.base.Engine select version()\n",
      "2020-02-19 15:43:31,723 INFO sqlalchemy.engine.base.Engine {}\n",
      "2020-02-19 15:43:31,729 INFO sqlalchemy.engine.base.Engine select current_schema()\n",
      "2020-02-19 15:43:31,730 INFO sqlalchemy.engine.base.Engine {}\n",
      "2020-02-19 15:43:31,737 INFO sqlalchemy.engine.base.Engine SELECT CAST('test plain returns' AS VARCHAR(60)) AS anon_1\n",
      "2020-02-19 15:43:31,739 INFO sqlalchemy.engine.base.Engine {}\n",
      "2020-02-19 15:43:31,745 INFO sqlalchemy.engine.base.Engine SELECT CAST('test unicode returns' AS VARCHAR(60)) AS anon_1\n",
      "2020-02-19 15:43:31,747 INFO sqlalchemy.engine.base.Engine {}\n",
      "2020-02-19 15:43:31,756 INFO sqlalchemy.engine.base.Engine show standard_conforming_strings\n",
      "2020-02-19 15:43:31,757 INFO sqlalchemy.engine.base.Engine {}\n",
      "2020-02-19 15:43:31,764 INFO sqlalchemy.engine.base.Engine select relname from pg_class c join pg_namespace n on n.oid=c.relnamespace where pg_catalog.pg_table_is_visible(c.oid) and relname=%(name)s\n",
      "2020-02-19 15:43:31,766 INFO sqlalchemy.engine.base.Engine {'name': u'user'}\n",
      "2020-02-19 15:43:31,773 INFO sqlalchemy.engine.base.Engine \n",
      "CREATE TABLE \"user\" (\n",
      "\tid SERIAL NOT NULL, \n",
      "\tname VARCHAR NOT NULL, \n",
      "\tcity VARCHAR NOT NULL, \n",
      "\tPRIMARY KEY (id)\n",
      ")\n",
      "\n",
      "\n",
      "2020-02-19 15:43:31,775 INFO sqlalchemy.engine.base.Engine {}\n",
      "2020-02-19 15:43:31,806 INFO sqlalchemy.engine.base.Engine COMMIT\n"
     ]
    }
   ],
   "source": [
    "from sqlalchemy import Column, Integer, String\n",
    "\n",
    "Base = s.Base\n",
    "\n",
    "class User(Base):\n",
    "    __tablename__ = 'user'\n",
    "    id = Column(Integer,\n",
    "        primary_key=True,\n",
    "        nullable=False,\n",
    "    )\n",
    "    name = Column(String(), nullable=False)\n",
    "    city = Column(String(), nullable=False)\n",
    "\n",
    "# Create user table in db\n",
    "s.create_models(Base)"
   ]
  },
  {
   "cell_type": "code",
   "execution_count": 4,
   "metadata": {},
   "outputs": [
    {
     "name": "stdout",
     "output_type": "stream",
     "text": [
      "2020-02-19 15:43:47,399 INFO sqlalchemy.engine.base.Engine BEGIN (implicit)\n",
      "2020-02-19 15:43:47,402 INFO sqlalchemy.engine.base.Engine INSERT INTO \"user\" (name, city) VALUES (%(name)s, %(city)s) RETURNING \"user\".id\n",
      "2020-02-19 15:43:47,403 INFO sqlalchemy.engine.base.Engine {'city': 'Djerba', 'name': 'Walid'}\n",
      "2020-02-19 15:43:47,410 INFO sqlalchemy.engine.base.Engine INSERT INTO \"user\" (name, city) VALUES (%(name)s, %(city)s) RETURNING \"user\".id\n",
      "2020-02-19 15:43:47,412 INFO sqlalchemy.engine.base.Engine {'city': 'Tours', 'name': 'Mathias'}\n",
      "2020-02-19 15:43:47,415 INFO sqlalchemy.engine.base.Engine COMMIT\n"
     ]
    }
   ],
   "source": [
    "ROWS = [\n",
    "    { 'name': 'Walid', 'city': 'Djerba' },\n",
    "    { 'name': 'Mathias', 'city': 'Tours' },\n",
    "]\n",
    "\n",
    "s.populate(User, ROWS)"
   ]
  },
  {
   "cell_type": "code",
   "execution_count": 5,
   "metadata": {},
   "outputs": [
    {
     "name": "stdout",
     "output_type": "stream",
     "text": [
      "2020-02-19 15:44:09,753 INFO sqlalchemy.engine.base.Engine BEGIN (implicit)\n",
      "2020-02-19 15:44:09,755 INFO sqlalchemy.engine.base.Engine INSERT INTO \"user\" (name, city) VALUES (%(name)s, %(city)s) RETURNING \"user\".id\n",
      "2020-02-19 15:44:09,758 INFO sqlalchemy.engine.base.Engine {'city': 'paris', 'name': 'player'}\n",
      "2020-02-19 15:44:09,764 INFO sqlalchemy.engine.base.Engine COMMIT\n"
     ]
    }
   ],
   "source": [
    "user = User(name='player', city='paris')\n",
    "\n",
    "s.create(user)"
   ]
  },
  {
   "cell_type": "code",
   "execution_count": 6,
   "metadata": {},
   "outputs": [
    {
     "name": "stdout",
     "output_type": "stream",
     "text": [
      "2020-02-19 15:44:24,328 INFO sqlalchemy.engine.base.Engine BEGIN (implicit)\n",
      "2020-02-19 15:44:24,331 INFO sqlalchemy.engine.base.Engine SELECT \"user\".id AS user_id, \"user\".name AS user_name, \"user\".city AS user_city \n",
      "FROM \"user\" \n",
      "WHERE \"user\".name = %(name_1)s \n",
      " LIMIT %(param_1)s\n",
      "2020-02-19 15:44:24,334 INFO sqlalchemy.engine.base.Engine {'name_1': 'player', 'param_1': 1}\n"
     ]
    },
    {
     "data": {
      "text/plain": [
       "u'paris'"
      ]
     },
     "execution_count": 6,
     "metadata": {},
     "output_type": "execute_result"
    }
   ],
   "source": [
    "player = s.session.query(User).filter_by(name='player').first()\n",
    "\n",
    "player.city"
   ]
  },
  {
   "cell_type": "code",
   "execution_count": null,
   "metadata": {},
   "outputs": [],
   "source": []
  }
 ],
 "metadata": {
  "kernelspec": {
   "display_name": "Python 3",
   "language": "python",
   "name": "python3"
  },
  "language_info": {
   "codemirror_mode": {
    "name": "ipython",
    "version": 2
   },
   "file_extension": ".py",
   "mimetype": "text/x-python",
   "name": "python",
   "nbconvert_exporter": "python",
   "pygments_lexer": "ipython2",
   "version": "2.7.10"
  }
 },
 "nbformat": 4,
 "nbformat_minor": 2
}
