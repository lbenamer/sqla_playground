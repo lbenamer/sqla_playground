{
 "cells": [
  {
   "cell_type": "code",
   "execution_count": 1,
   "metadata": {},
   "outputs": [
    {
     "name": "stderr",
     "output_type": "stream",
     "text": [
      "/Users/benamer/playgrounds/sqlapp/venv/lib/python2.7/site-packages/sqlalchemy/sql/schema.py:1226: SAWarning: Unicode column 'None' has non-unicode default value 'fr' specified.\n",
      "  self.default\n"
     ]
    }
   ],
   "source": [
    "# -*- coding: utf-8 -*-\n",
    "from __future__ import unicode_literals\n",
    "\n",
    "from dotenv import load_dotenv\n",
    "import os, sys\n",
    "\n",
    "load_dotenv('../../')\n",
    "import pandas as pd\n",
    "sys.path.append(os.getenv('WORK_ENV'))\n",
    "sys.path.append(os.getenv('SQLAPP_MODULES'))\n",
    "from web.datalayer.category_sql import CategorySql, CategoryOnPublisher, CategoryOnPublisherMapper, CategoryNameByCountry\n",
    "from web.datalayer.publisher import Publisher\n",
    "from web.datalayer.organization_publisher import OrganizationPublisher\n",
    "from web.datalayer.organization import Organization\n",
    "from sqlapp import SqlApp\n",
    "from web.datalayer.repositories import CategorySqlRepository\n",
    "import pandas as pd\n",
    "from sqlalchemy import func, and_, case\n",
    "s = SqlApp()\n",
    "s.connect('postgres://postgres@localhost:5432/partoo', echo=True)\n",
    "session = s.session\n",
    "Q = session.query"
   ]
  },
  {
   "cell_type": "code",
   "execution_count": 2,
   "metadata": {},
   "outputs": [],
   "source": [
    "repo = CategorySqlRepository(db_session=session)"
   ]
  },
  {
   "cell_type": "code",
   "execution_count": 3,
   "metadata": {},
   "outputs": [
    {
     "name": "stdout",
     "output_type": "stream",
     "text": [
      "2020-07-01 15:10:54,027 INFO sqlalchemy.engine.base.Engine select version()\n",
      "2020-07-01 15:10:54,029 INFO sqlalchemy.engine.base.Engine {}\n",
      "2020-07-01 15:10:54,037 INFO sqlalchemy.engine.base.Engine select current_schema()\n",
      "2020-07-01 15:10:54,039 INFO sqlalchemy.engine.base.Engine {}\n",
      "2020-07-01 15:10:54,046 INFO sqlalchemy.engine.base.Engine SELECT CAST('test plain returns' AS VARCHAR(60)) AS anon_1\n",
      "2020-07-01 15:10:54,048 INFO sqlalchemy.engine.base.Engine {}\n",
      "2020-07-01 15:10:54,056 INFO sqlalchemy.engine.base.Engine SELECT CAST('test unicode returns' AS VARCHAR(60)) AS anon_1\n",
      "2020-07-01 15:10:54,057 INFO sqlalchemy.engine.base.Engine {}\n",
      "2020-07-01 15:10:54,069 INFO sqlalchemy.engine.base.Engine show standard_conforming_strings\n",
      "2020-07-01 15:10:54,071 INFO sqlalchemy.engine.base.Engine {}\n",
      "2020-07-01 15:10:54,080 INFO sqlalchemy.engine.base.Engine BEGIN (implicit)\n",
      "2020-07-01 15:10:54,082 INFO sqlalchemy.engine.base.Engine SELECT count(*) AS count_1 \n",
      "FROM (SELECT DISTINCT ON (category_on_publisher.publisher_name) category_on_publisher.id AS category_on_publisher_id, category_on_publisher.publisher_name AS category_on_publisher_publisher_name, category_on_publisher.label AS category_on_publisher_label, category_on_publisher.publisher_id AS category_on_publisher_publisher_id, category_on_publisher.created_at AS category_on_publisher_created_at, category_on_publisher.updated_at AS category_on_publisher_updated_at \n",
      "FROM category_on_publisher) AS anon_1\n",
      "2020-07-01 15:10:54,086 INFO sqlalchemy.engine.base.Engine {}\n"
     ]
    },
    {
     "name": "stderr",
     "output_type": "stream",
     "text": [
      "/Users/benamer/playgrounds/sqlapp/venv/lib/python2.7/site-packages/sqlalchemy/orm/relationships.py:1788: SAWarning: On GoogleMyBusinessSpecificFields.publisher_state, 'passive_deletes' is normally configured on one-to-many, one-to-one, many-to-many relationships only.\n",
      "  % self)\n",
      "/Users/benamer/playgrounds/sqlapp/venv/lib/python2.7/site-packages/sqlalchemy/orm/relationships.py:1788: SAWarning: On JustacoteSpecificFields.publisher_state, 'passive_deletes' is normally configured on one-to-many, one-to-one, many-to-many relationships only.\n",
      "  % self)\n",
      "/Users/benamer/playgrounds/sqlapp/venv/lib/python2.7/site-packages/sqlalchemy/orm/relationships.py:1788: SAWarning: On Group.parent, 'passive_deletes' is normally configured on one-to-many, one-to-one, many-to-many relationships only.\n",
      "  % self)\n",
      "/Users/benamer/playgrounds/sqlapp/venv/lib/python2.7/site-packages/sqlalchemy/orm/relationships.py:1788: SAWarning: On Comment.parent, 'passive_deletes' is normally configured on one-to-many, one-to-one, many-to-many relationships only.\n",
      "  % self)\n"
     ]
    }
   ],
   "source": [
    "mappings = repo._get_subset_filter_by_missing_mappings(missing_mappings=True)"
   ]
  },
  {
   "cell_type": "code",
   "execution_count": 4,
   "metadata": {},
   "outputs": [],
   "source": [
    "s = Q(\n",
    "    func.count(CategorySql.id).label('all'),\n",
    "    func.count(CategorySql.id).filter(CategorySql.state == 'DEPRECATED').label('deprecated'),\n",
    ").subquery()"
   ]
  },
  {
   "cell_type": "code",
   "execution_count": 5,
   "metadata": {},
   "outputs": [],
   "source": [
    "m = Q(func.count(mappings.c.id).label('missing_mappings')).subquery()"
   ]
  },
  {
   "cell_type": "code",
   "execution_count": 6,
   "metadata": {},
   "outputs": [
    {
     "name": "stdout",
     "output_type": "stream",
     "text": [
      "2020-07-01 15:10:56,051 INFO sqlalchemy.engine.base.Engine SELECT anon_1.\"all\" AS anon_1_all, anon_1.deprecated AS anon_1_deprecated, anon_2.missing_mappings AS anon_2_missing_mappings \n",
      "FROM (SELECT count(category.id) AS \"all\", count(category.id) FILTER (WHERE category.state = %(state_1)s) AS deprecated \n",
      "FROM category) AS anon_1, (SELECT count(anon_3.id) AS missing_mappings \n",
      "FROM (SELECT anon_4.id AS id, anon_4.gmb_id AS gmb_id, anon_4.state AS state, anon_4.block_push_long_description_on_gmb AS block_push_long_description_on_gmb, anon_4.live_id AS live_id, anon_4.created_at AS created_at, anon_4.updated_at AS updated_at, anon_4.count AS count, anon_4.missing_mappings AS missing_mappings \n",
      "FROM (SELECT anon_5.id AS id, anon_5.gmb_id AS gmb_id, anon_5.state AS state, anon_5.block_push_long_description_on_gmb AS block_push_long_description_on_gmb, anon_5.live_id AS live_id, anon_5.created_at AS created_at, anon_5.updated_at AS updated_at, anon_5.count AS count, CASE WHEN (anon_5.count < %(count_1)s) THEN %(param_1)s ELSE %(param_2)s END AS missing_mappings \n",
      "FROM (SELECT category.id AS id, category.gmb_id AS gmb_id, category.state AS state, category.block_push_long_description_on_gmb AS block_push_long_description_on_gmb, category.live_id AS live_id, category.created_at AS created_at, category.updated_at AS updated_at, count(category.id) AS count \n",
      "FROM category LEFT OUTER JOIN category_on_publisher_mapper ON category.id = category_on_publisher_mapper.category_pk GROUP BY category.id) AS anon_5) AS anon_4 \n",
      "WHERE anon_4.missing_mappings = true) AS anon_3) AS anon_2 \n",
      " LIMIT %(param_3)s\n",
      "2020-07-01 15:10:56,054 INFO sqlalchemy.engine.base.Engine {'state_1': 'DEPRECATED', 'param_1': True, 'count_1': 9L, 'param_3': 1, 'param_2': False}\n"
     ]
    },
    {
     "data": {
      "text/plain": [
       "{'all': 4006L, 'deprecated': 1L, 'missing_mappings': 1029L}"
      ]
     },
     "execution_count": 6,
     "metadata": {},
     "output_type": "execute_result"
    }
   ],
   "source": [
    "r = Q(s, m).first()\n",
    "res = dict(\n",
    "    all=r.all,\n",
    "    deprecated=r.deprecated,\n",
    "    missing_mappings=r.missing_mappings\n",
    ")\n",
    "res"
   ]
  },
  {
   "cell_type": "code",
   "execution_count": 10,
   "metadata": {},
   "outputs": [
    {
     "name": "stdout",
     "output_type": "stream",
     "text": [
      "2020-07-01 15:11:41,014 INFO sqlalchemy.engine.base.Engine BEGIN (implicit)\n",
      "2020-07-01 15:11:41,017 INFO sqlalchemy.engine.base.Engine SELECT count(*) AS count_1 \n",
      "FROM (SELECT DISTINCT ON (category_on_publisher.publisher_name) category_on_publisher.id AS category_on_publisher_id, category_on_publisher.publisher_name AS category_on_publisher_publisher_name, category_on_publisher.label AS category_on_publisher_label, category_on_publisher.publisher_id AS category_on_publisher_publisher_id, category_on_publisher.created_at AS category_on_publisher_created_at, category_on_publisher.updated_at AS category_on_publisher_updated_at \n",
      "FROM category_on_publisher) AS anon_1\n",
      "2020-07-01 15:11:41,019 INFO sqlalchemy.engine.base.Engine {}\n",
      "2020-07-01 15:11:41,042 INFO sqlalchemy.engine.base.Engine SELECT anon_1.\"all\" AS anon_1_all, anon_1.deprecated AS anon_1_deprecated, anon_2.missing_mappings AS anon_2_missing_mappings \n",
      "FROM (SELECT count(category.id) AS \"all\", count(category.id) FILTER (WHERE category.state = %(state_1)s) AS deprecated \n",
      "FROM category) AS anon_1, (SELECT count(anon_3.id) AS missing_mappings \n",
      "FROM (SELECT anon_4.id AS id, anon_4.gmb_id AS gmb_id, anon_4.state AS state, anon_4.block_push_long_description_on_gmb AS block_push_long_description_on_gmb, anon_4.live_id AS live_id, anon_4.created_at AS created_at, anon_4.updated_at AS updated_at, anon_4.count AS count, anon_4.missing_mappings AS missing_mappings \n",
      "FROM (SELECT anon_5.id AS id, anon_5.gmb_id AS gmb_id, anon_5.state AS state, anon_5.block_push_long_description_on_gmb AS block_push_long_description_on_gmb, anon_5.live_id AS live_id, anon_5.created_at AS created_at, anon_5.updated_at AS updated_at, anon_5.count AS count, CASE WHEN (anon_5.count < %(count_1)s) THEN %(param_1)s ELSE %(param_2)s END AS missing_mappings \n",
      "FROM (SELECT category.id AS id, category.gmb_id AS gmb_id, category.state AS state, category.block_push_long_description_on_gmb AS block_push_long_description_on_gmb, category.live_id AS live_id, category.created_at AS created_at, category.updated_at AS updated_at, count(category.id) AS count \n",
      "FROM category LEFT OUTER JOIN category_on_publisher_mapper ON category.id = category_on_publisher_mapper.category_pk GROUP BY category.id) AS anon_5) AS anon_4 \n",
      "WHERE anon_4.missing_mappings = true) AS anon_3) AS anon_2 \n",
      " LIMIT %(param_3)s\n",
      "2020-07-01 15:11:41,043 INFO sqlalchemy.engine.base.Engine {'state_1': 'DEPRECATED', 'param_1': True, 'param_3': 1, 'count_1': 9L, 'param_2': False}\n"
     ]
    },
    {
     "data": {
      "text/plain": [
       "{'all': 4006L, 'deprecated': 1L, 'missing_mappings': 1029L}"
      ]
     },
     "execution_count": 10,
     "metadata": {},
     "output_type": "execute_result"
    }
   ],
   "source": [
    "counts = repo.get_stats()\n",
    "counts"
   ]
  },
  {
   "cell_type": "markdown",
   "metadata": {},
   "source": [
    "# HANDLING SESSION"
   ]
  },
  {
   "cell_type": "code",
   "execution_count": 9,
   "metadata": {},
   "outputs": [
    {
     "name": "stdout",
     "output_type": "stream",
     "text": [
      "2020-07-01 15:11:37,962 INFO sqlalchemy.engine.base.Engine ROLLBACK\n"
     ]
    }
   ],
   "source": [
    "# ROLLBACK\n",
    "session.rollback()"
   ]
  },
  {
   "cell_type": "code",
   "execution_count": null,
   "metadata": {},
   "outputs": [],
   "source": [
    "# COMMIT\n",
    "session.commit()"
   ]
  },
  {
   "cell_type": "code",
   "execution_count": null,
   "metadata": {},
   "outputs": [],
   "source": [
    "# CLOSE\n",
    "session.close()"
   ]
  },
  {
   "cell_type": "code",
   "execution_count": null,
   "metadata": {},
   "outputs": [],
   "source": []
  }
 ],
 "metadata": {
  "kernelspec": {
   "display_name": "Python 2.7.10 64-bit ('venv': virtualenv)",
   "language": "python",
   "name": "python271064bitvenvvirtualenv1a07f65bb6354fa290c891f1a3619685"
  },
  "language_info": {
   "codemirror_mode": {
    "name": "ipython",
    "version": 2
   },
   "file_extension": ".py",
   "mimetype": "text/x-python",
   "name": "python",
   "nbconvert_exporter": "python",
   "pygments_lexer": "ipython2",
   "version": "2.7.10"
  }
 },
 "nbformat": 4,
 "nbformat_minor": 2
}
