{
 "cells": [
  {
   "cell_type": "code",
   "execution_count": 2,
   "metadata": {},
   "outputs": [],
   "source": [
    "from sqlalchemy import Column, Integer, String, Text, DateTime, Float, Boolean, ForeignKey, Table\n",
    "from sqlalchemy.orm import relationship\n",
    "from sqlapp import SqlApp\n",
    "import enum\n",
    "from functools import partial\n"
   ]
  },
  {
   "cell_type": "code",
   "execution_count": 3,
   "metadata": {},
   "outputs": [],
   "source": [
    "# PTO IMPORT\n",
    "from web.datalayer.partner_ref import AvailableCountryCodes\n",
    "from web.datalayer.organization import Organization\n",
    "from web.datalayer.business_partners_sql import OrganizationPublisher\n",
    "from web.datalayer.publisher import Publisher, PublisherField\n",
    "from web.datalayer.country_code import CountryCode"
   ]
  },
  {
   "cell_type": "code",
   "execution_count": null,
   "metadata": {},
   "outputs": [],
   "source": []
  },
  {
   "cell_type": "code",
   "execution_count": 4,
   "metadata": {},
   "outputs": [],
   "source": [
    "sqlapp = SqlApp()\n",
    "sqlapp.connect('postgres://postgres@localhost:5432/partoo', echo=False)\n",
    "populate, create, Base = map(partial(getattr, sqlapp), ['populate', 'create', 'Base'])"
   ]
  },
  {
   "cell_type": "code",
   "execution_count": 5,
   "metadata": {},
   "outputs": [],
   "source": [
    "## HELPERS\n",
    "def _pop(_dict, keys, default=None):\n",
    "    props = map(partial(lambda p, x: _dict.pop(x, p), default), keys)\n",
    "    return props if len(keys) > 1 else props[0]\n",
    "\n",
    "def _get(_dict, keys):\n",
    "    props = map(_dict.get, keys)\n",
    "    return props if len(keys) > 1 else props[0]"
   ]
  },
  {
   "cell_type": "code",
   "execution_count": 6,
   "metadata": {},
   "outputs": [],
   "source": [
    "def updatePublisher(id, **kwargs):\n",
    "    # fetch record:\n",
    "    publisher = sqlapp.session.query(Publisher).filter_by(name=id).first()\n",
    "\n",
    "    # extract relation fields:\n",
    "    organizations, country_codes, pm_fields = _pop(kwargs, ['organizations', 'country_codes', 'pm_fields'])\n",
    "    \n",
    "    if publisher:\n",
    "        for k,v in kwargs.items():\n",
    "            setattr(publisher, k, v)\n",
    "\n",
    "    # populate relations\n",
    "    \n",
    "    if country_codes:\n",
    "        try:\n",
    "            print('g')\n",
    "            links = sqlapp.session.query(CountryCode).filter(CountryCode.code.in_(country_codes)).all()\n",
    "            print(links)\n",
    "            setattr(publisher, 'country_codes', links)\n",
    "        except:\n",
    "            print('Failed to build Publisher <=> CountryCode relationship')\n",
    "            raise\n",
    "    # O2M\n",
    "    if pm_fields:\n",
    "        pm_fields_instances = [ PublisherField(field_name=field, publisher_name=id)  for field in pm_fields ]\n",
    "        setattr(publisher, 'pm_fields', pm_fields_instances)\n",
    "    \n",
    "    sqlapp.session.commit()"
   ]
  },
  {
   "cell_type": "markdown",
   "metadata": {},
   "source": [
    "\n",
    "## RELATIONSHIP PATTERN\n",
    "\n",
    "Always use `back_populates` arg instead of `back_ref` . if the relation is bi directional\n",
    "\n",
    "TODO: construct an example"
   ]
  },
  {
   "cell_type": "code",
   "execution_count": 22,
   "metadata": {},
   "outputs": [
    {
     "name": "stdout",
     "output_type": "stream",
     "text": [
      "g\n",
      "[<CountryCode(id=3, code=AvailableCountryCodes.FR)>, <CountryCode(id=4, code=AvailableCountryCodes.IT)>]\n"
     ]
    },
    {
     "data": {
      "text/plain": [
       "[<CountryCode(id=3, code=AvailableCountryCodes.FR)>,\n",
       " <CountryCode(id=4, code=AvailableCountryCodes.IT)>]"
      ]
     },
     "execution_count": 22,
     "metadata": {},
     "output_type": "execute_result"
    }
   ],
   "source": [
    "updated_p = {\n",
    "    'country_codes':['FR', 'IT']\n",
    "}\n",
    "\n",
    "updatePublisher('partoo', **updated_p)\n",
    "\n",
    "p = sqlapp.session.query(Publisher).filter_by(name='partoo').first()\n",
    "p.country_codes"
   ]
  },
  {
   "cell_type": "code",
   "execution_count": 12,
   "metadata": {
    "scrolled": false
   },
   "outputs": [
    {
     "name": "stdout",
     "output_type": "stream",
     "text": [
      "(exceptions.ValueError) KJ is not a valid AvailableCountryCodes\n"
     ]
    },
    {
     "name": "stderr",
     "output_type": "stream",
     "text": [
      "/Users/benamer/playgrounds/sqlapp/venv/lib/python2.7/site-packages/ipykernel_launcher.py:4: DeprecationWarning: BaseException.message has been deprecated as of Python 2.6\n",
      "  after removing the cwd from sys.path.\n"
     ]
    }
   ],
   "source": [
    "try:\n",
    "    CountryCodeRepository().filter_by(code__in=['ES', 'IT', 'KJ']).all()\n",
    "except Exception as e:\n",
    "    print(e.message)"
   ]
  },
  {
   "cell_type": "code",
   "execution_count": null,
   "metadata": {},
   "outputs": [],
   "source": [
    "import logging\n",
    "log = logging.getLogger(__name__)\n",
    "\n",
    "def update_country_codes(instance, values):\n",
    "    try:\n",
    "        links = CountryCodeRepository().filter_by(code__in=values).all()\n",
    "        setattr(instance, 'country_codes', links)\n",
    "    except Exception as e:\n",
    "        log('Failed to build Publisher <=> CountryCode relationship')"
   ]
  },
  {
   "cell_type": "code",
   "execution_count": 13,
   "metadata": {},
   "outputs": [],
   "source": [
    "import enum\n",
    "class AvailableCountryCodes(enum.Enum):\n",
    "    FR = 'FR'\n",
    "    EN = 'EN'\n",
    "    IT = 'IT'\n",
    "    ES = 'ES'"
   ]
  },
  {
   "cell_type": "code",
   "execution_count": 14,
   "metadata": {},
   "outputs": [
    {
     "name": "stdout",
     "output_type": "stream",
     "text": [
      "AvailableCountryCodes.EN\n",
      "AvailableCountryCodes.ES\n",
      "AvailableCountryCodes.FR\n",
      "AvailableCountryCodes.IT\n"
     ]
    }
   ],
   "source": [
    "for x in AvailableCountryCodes:\n",
    "    print(x)"
   ]
  },
  {
   "cell_type": "code",
   "execution_count": null,
   "metadata": {},
   "outputs": [],
   "source": []
  }
 ],
 "metadata": {
  "kernelspec": {
   "display_name": "Python 2",
   "language": "python",
   "name": "python2"
  },
  "language_info": {
   "codemirror_mode": {
    "name": "ipython",
    "version": 2
   },
   "file_extension": ".py",
   "mimetype": "text/x-python",
   "name": "python",
   "nbconvert_exporter": "python",
   "pygments_lexer": "ipython2",
   "version": "2.7.10"
  }
 },
 "nbformat": 4,
 "nbformat_minor": 2
}
