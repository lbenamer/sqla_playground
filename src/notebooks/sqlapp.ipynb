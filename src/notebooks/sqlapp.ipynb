{
 "cells": [
  {
   "cell_type": "code",
   "execution_count": 19,
   "metadata": {},
   "outputs": [],
   "source": [
    "# from sqlalchemy import create_engine\n",
    "from sqlalchemy import Column, Integer, String, Text, DateTime, Float, Boolean, ForeignKey, Table\n",
    "from sqlalchemy.orm import relationship\n",
    "# from sqlalchemy.orm import sessionmaker\n",
    "# from sqlalchemy.ext.declarative import declarative_base\n",
    "import sys\n",
    "sys.path.append('../')\n",
    "from sqlapp import SqlApp\n",
    "import functools"
   ]
  },
  {
   "cell_type": "code",
   "execution_count": 37,
   "metadata": {},
   "outputs": [],
   "source": [
    "s = SqlApp()"
   ]
  },
  {
   "cell_type": "code",
   "execution_count": 38,
   "metadata": {},
   "outputs": [],
   "source": [
    "s.connect('postgresql://postgres@localhost:5532/sqlapp')"
   ]
  },
  {
   "cell_type": "code",
   "execution_count": 39,
   "metadata": {},
   "outputs": [],
   "source": [
    "populate, create, Base = map(functools.partial(getattr, s), ['populate', 'create', 'Base'])"
   ]
  },
  {
   "cell_type": "code",
   "execution_count": 41,
   "metadata": {},
   "outputs": [],
   "source": [
    "# /!\\ DROP MODEL IN DB /!\\\n",
    "s.drop_models() "
   ]
  },
  {
   "cell_type": "markdown",
   "metadata": {},
   "source": [
    "## Many To One Relationship"
   ]
  },
  {
   "cell_type": "code",
   "execution_count": 42,
   "metadata": {},
   "outputs": [],
   "source": [
    "\"\"\"\n",
    "A basic Many to One Relationship\n",
    "\"\"\"\n",
    "\n",
    "class PlayerModel(Base):\n",
    "    \"\"\"Data model for players.\"\"\"\n",
    "    __tablename__ = \"players\"\n",
    "\n",
    "    id = Column(Integer,\n",
    "                primary_key=True,\n",
    "                nullable=False)\n",
    "    team_id = Column(Integer,\n",
    "                     ForeignKey('teams.id'),\n",
    "                     nullable=False)\n",
    "    name = Column(String(100),\n",
    "                  nullable=False)\n",
    "    position = Column(String(100),\n",
    "                      nullable=False)\n",
    "\n",
    "    # Relationships\n",
    "    team = relationship(\"TeamModel\", backref=\"players\")\n",
    "    \n",
    "    def __repr__(self):\n",
    "        return '<Person model {}>'.format(self.id)\n",
    "\n",
    "\n",
    "class TeamModel(Base):\n",
    "    \"\"\"Data model for people.\"\"\"\n",
    "    __tablename__ = \"teams\"\n",
    "\n",
    "    id = Column(Integer,\n",
    "                primary_key=True,\n",
    "                nullable=False,\n",
    "    )\n",
    "    name = Column(String(100),\n",
    "                  nullable=False)\n",
    "    city = Column(String(100),\n",
    "                  nullable=False)\n",
    "\n",
    "    def __repr__(self):\n",
    "        return '<Team model {}>'.format(self.id)"
   ]
  },
  {
   "cell_type": "code",
   "execution_count": 43,
   "metadata": {},
   "outputs": [],
   "source": [
    "# PlayerModel.__table__.drop(engine)\n",
    "# TeamModel.__table__.drop(engine)"
   ]
  },
  {
   "cell_type": "markdown",
   "metadata": {},
   "source": [
    "# Many 2 Many Relationship"
   ]
  },
  {
   "cell_type": "code",
   "execution_count": 44,
   "metadata": {},
   "outputs": [],
   "source": [
    "\n",
    "\n",
    "association_table = Table('association', Base.metadata,\n",
    "    Column('left_id', Integer, ForeignKey('left.id')),\n",
    "    Column('right_id', String, ForeignKey('right.id'))\n",
    ")\n",
    "\n",
    "\n",
    "class Parent(Base):\n",
    "    __tablename__ = 'left'\n",
    "    id = Column(Integer, primary_key=True)\n",
    "    name = Column(String, nullable=False)\n",
    "    children = relationship(\n",
    "        \"Child\",\n",
    "        secondary=association_table,\n",
    "        back_populates=\"parents\")\n",
    "\n",
    "\n",
    "class Child(Base):\n",
    "    __tablename__ = 'right'\n",
    "    id = Column(String, primary_key=True, )\n",
    "    parents = relationship(\n",
    "        \"Parent\",\n",
    "        secondary=association_table,\n",
    "        back_populates=\"children\")"
   ]
  },
  {
   "cell_type": "code",
   "execution_count": 45,
   "metadata": {},
   "outputs": [
    {
     "name": "stdout",
     "output_type": "stream",
     "text": [
      "2020-02-05 00:13:09,491 INFO sqlalchemy.engine.base.Engine select relname from pg_class c join pg_namespace n on n.oid=c.relnamespace where pg_catalog.pg_table_is_visible(c.oid) and relname=%(name)s\n",
      "2020-02-05 00:13:09,494 INFO sqlalchemy.engine.base.Engine {'name': u'players'}\n",
      "2020-02-05 00:13:09,645 INFO sqlalchemy.engine.base.Engine select relname from pg_class c join pg_namespace n on n.oid=c.relnamespace where pg_catalog.pg_table_is_visible(c.oid) and relname=%(name)s\n",
      "2020-02-05 00:13:09,648 INFO sqlalchemy.engine.base.Engine {'name': u'left'}\n",
      "2020-02-05 00:13:09,663 INFO sqlalchemy.engine.base.Engine select relname from pg_class c join pg_namespace n on n.oid=c.relnamespace where pg_catalog.pg_table_is_visible(c.oid) and relname=%(name)s\n",
      "2020-02-05 00:13:09,665 INFO sqlalchemy.engine.base.Engine {'name': u'right'}\n",
      "2020-02-05 00:13:09,672 INFO sqlalchemy.engine.base.Engine select relname from pg_class c join pg_namespace n on n.oid=c.relnamespace where pg_catalog.pg_table_is_visible(c.oid) and relname=%(name)s\n",
      "2020-02-05 00:13:09,675 INFO sqlalchemy.engine.base.Engine {'name': u'association'}\n",
      "2020-02-05 00:13:09,679 INFO sqlalchemy.engine.base.Engine select relname from pg_class c join pg_namespace n on n.oid=c.relnamespace where pg_catalog.pg_table_is_visible(c.oid) and relname=%(name)s\n",
      "2020-02-05 00:13:09,681 INFO sqlalchemy.engine.base.Engine {'name': u'teams'}\n",
      "2020-02-05 00:13:09,689 INFO sqlalchemy.engine.base.Engine \n",
      "CREATE TABLE \"left\" (\n",
      "\tid SERIAL NOT NULL, \n",
      "\tname VARCHAR NOT NULL, \n",
      "\tPRIMARY KEY (id)\n",
      ")\n",
      "\n",
      "\n",
      "2020-02-05 00:13:09,691 INFO sqlalchemy.engine.base.Engine {}\n",
      "2020-02-05 00:13:09,714 INFO sqlalchemy.engine.base.Engine COMMIT\n",
      "2020-02-05 00:13:09,728 INFO sqlalchemy.engine.base.Engine \n",
      "CREATE TABLE \"right\" (\n",
      "\tid VARCHAR NOT NULL, \n",
      "\tPRIMARY KEY (id)\n",
      ")\n",
      "\n",
      "\n",
      "2020-02-05 00:13:09,732 INFO sqlalchemy.engine.base.Engine {}\n",
      "2020-02-05 00:13:09,755 INFO sqlalchemy.engine.base.Engine COMMIT\n",
      "2020-02-05 00:13:09,773 INFO sqlalchemy.engine.base.Engine \n",
      "CREATE TABLE teams (\n",
      "\tid SERIAL NOT NULL, \n",
      "\tname VARCHAR(100) NOT NULL, \n",
      "\tcity VARCHAR(100) NOT NULL, \n",
      "\tPRIMARY KEY (id)\n",
      ")\n",
      "\n",
      "\n",
      "2020-02-05 00:13:09,775 INFO sqlalchemy.engine.base.Engine {}\n",
      "2020-02-05 00:13:09,808 INFO sqlalchemy.engine.base.Engine COMMIT\n",
      "2020-02-05 00:13:09,820 INFO sqlalchemy.engine.base.Engine \n",
      "CREATE TABLE players (\n",
      "\tid SERIAL NOT NULL, \n",
      "\tteam_id INTEGER NOT NULL, \n",
      "\tname VARCHAR(100) NOT NULL, \n",
      "\tposition VARCHAR(100) NOT NULL, \n",
      "\tPRIMARY KEY (id), \n",
      "\tFOREIGN KEY(team_id) REFERENCES teams (id)\n",
      ")\n",
      "\n",
      "\n",
      "2020-02-05 00:13:09,821 INFO sqlalchemy.engine.base.Engine {}\n",
      "2020-02-05 00:13:09,871 INFO sqlalchemy.engine.base.Engine COMMIT\n",
      "2020-02-05 00:13:09,878 INFO sqlalchemy.engine.base.Engine \n",
      "CREATE TABLE association (\n",
      "\tleft_id INTEGER, \n",
      "\tright_id VARCHAR, \n",
      "\tFOREIGN KEY(left_id) REFERENCES \"left\" (id), \n",
      "\tFOREIGN KEY(right_id) REFERENCES \"right\" (id)\n",
      ")\n",
      "\n",
      "\n",
      "2020-02-05 00:13:09,880 INFO sqlalchemy.engine.base.Engine {}\n",
      "2020-02-05 00:13:09,905 INFO sqlalchemy.engine.base.Engine COMMIT\n"
     ]
    }
   ],
   "source": [
    "# /!\\ WRITE MODEL IN DB /!\\\n",
    "# Base.metadata.create_all(engine)\n",
    "s.create_models()"
   ]
  },
  {
   "cell_type": "code",
   "execution_count": 46,
   "metadata": {},
   "outputs": [
    {
     "name": "stdout",
     "output_type": "stream",
     "text": [
      "2020-02-05 00:13:12,890 INFO sqlalchemy.engine.base.Engine BEGIN (implicit)\n",
      "2020-02-05 00:13:12,893 INFO sqlalchemy.engine.base.Engine INSERT INTO teams (id, name, city) VALUES (%(id)s, %(name)s, %(city)s)\n",
      "2020-02-05 00:13:12,897 INFO sqlalchemy.engine.base.Engine ({'city': 'Paris', 'id': 1, 'name': 'PSG'}, {'city': 'Marseille', 'id': 2, 'name': 'OM'}, {'city': 'Lyon', 'id': 3, 'name': 'OL'}, {'city': 'Lille', 'id': 4, 'name': 'LOSC'})\n",
      "2020-02-05 00:13:12,925 INFO sqlalchemy.engine.base.Engine COMMIT\n"
     ]
    }
   ],
   "source": [
    "TEAMS = [\n",
    "    { 'name': 'PSG', 'city': 'Paris', 'id': 1},\n",
    "    { 'name': 'OM', 'city': 'Marseille', 'id': 2},\n",
    "    { 'name': 'OL', 'city': 'Lyon', 'id': 3},\n",
    "    { 'name': 'LOSC', 'city': 'Lille', 'id': 4},\n",
    "]\n",
    "populate(TeamModel, TEAMS)"
   ]
  },
  {
   "cell_type": "code",
   "execution_count": 47,
   "metadata": {},
   "outputs": [
    {
     "name": "stdout",
     "output_type": "stream",
     "text": [
      "2020-02-05 00:13:14,727 INFO sqlalchemy.engine.base.Engine BEGIN (implicit)\n",
      "2020-02-05 00:13:14,731 INFO sqlalchemy.engine.base.Engine INSERT INTO players (team_id, name, position) VALUES (%(team_id)s, %(name)s, %(position)s) RETURNING players.id\n",
      "2020-02-05 00:13:14,733 INFO sqlalchemy.engine.base.Engine {'position': '9', 'team_id': '1', 'name': 'Mbappe'}\n",
      "2020-02-05 00:13:14,747 INFO sqlalchemy.engine.base.Engine INSERT INTO players (team_id, name, position) VALUES (%(team_id)s, %(name)s, %(position)s) RETURNING players.id\n",
      "2020-02-05 00:13:14,748 INFO sqlalchemy.engine.base.Engine {'position': '7', 'team_id': '1', 'name': 'Neymar'}\n",
      "2020-02-05 00:13:14,757 INFO sqlalchemy.engine.base.Engine INSERT INTO players (team_id, name, position) VALUES (%(team_id)s, %(name)s, %(position)s) RETURNING players.id\n",
      "2020-02-05 00:13:14,762 INFO sqlalchemy.engine.base.Engine {'position': '8', 'team_id': '3', 'name': 'Diawara'}\n",
      "2020-02-05 00:13:14,771 INFO sqlalchemy.engine.base.Engine INSERT INTO players (team_id, name, position) VALUES (%(team_id)s, %(name)s, %(position)s) RETURNING players.id\n",
      "2020-02-05 00:13:14,773 INFO sqlalchemy.engine.base.Engine {'position': '9', 'team_id': '2', 'name': 'Benedeto'}\n",
      "2020-02-05 00:13:14,778 INFO sqlalchemy.engine.base.Engine INSERT INTO players (team_id, name, position) VALUES (%(team_id)s, %(name)s, %(position)s) RETURNING players.id\n",
      "2020-02-05 00:13:14,779 INFO sqlalchemy.engine.base.Engine {'position': '7', 'team_id': '2', 'name': 'Payet'}\n",
      "2020-02-05 00:13:14,785 INFO sqlalchemy.engine.base.Engine INSERT INTO players (team_id, name, position) VALUES (%(team_id)s, %(name)s, %(position)s) RETURNING players.id\n",
      "2020-02-05 00:13:14,786 INFO sqlalchemy.engine.base.Engine {'position': '10', 'team_id': '4', 'name': 'Pepe'}\n",
      "2020-02-05 00:13:14,791 INFO sqlalchemy.engine.base.Engine COMMIT\n"
     ]
    }
   ],
   "source": [
    "PLAYERS = [\n",
    "    {'name':'Mbappe', 'position': '9', 'team_id': '1'},\n",
    "    {'name':'Neymar', 'position': '7', 'team_id': '1'},\n",
    "    {'name':'Diawara', 'position': '8', 'team_id': '3'},\n",
    "    {'name':'Benedeto', 'position': '9', 'team_id': '2'},\n",
    "    {'name':'Payet', 'position': '7', 'team_id': '2'},\n",
    "    {'name':'Pepe', 'position': '10', 'team_id': '4'},\n",
    "]\n",
    "populate(PlayerModel, PLAYERS)"
   ]
  },
  {
   "cell_type": "code",
   "execution_count": 48,
   "metadata": {},
   "outputs": [
    {
     "name": "stdout",
     "output_type": "stream",
     "text": [
      "2020-02-05 00:13:16,910 INFO sqlalchemy.engine.base.Engine BEGIN (implicit)\n",
      "2020-02-05 00:13:16,918 INFO sqlalchemy.engine.base.Engine INSERT INTO \"left\" (id, name) VALUES (%(id)s, %(name)s)\n",
      "2020-02-05 00:13:16,920 INFO sqlalchemy.engine.base.Engine ({'id': 1, 'name': 'x'}, {'id': 2, 'name': 'y'})\n",
      "2020-02-05 00:13:16,933 INFO sqlalchemy.engine.base.Engine COMMIT\n",
      "2020-02-05 00:13:16,957 INFO sqlalchemy.engine.base.Engine BEGIN (implicit)\n",
      "2020-02-05 00:13:16,961 INFO sqlalchemy.engine.base.Engine INSERT INTO \"right\" (id) VALUES (%(id)s)\n",
      "2020-02-05 00:13:16,964 INFO sqlalchemy.engine.base.Engine ({'id': 'FR'}, {'id': 'ES'}, {'id': 'IT'}, {'id': 'EN'})\n",
      "2020-02-05 00:13:17,028 INFO sqlalchemy.engine.base.Engine COMMIT\n"
     ]
    }
   ],
   "source": [
    "populate(Parent, [{'id':1, 'name': 'x'}, {'id':2, 'name': 'y'}])\n",
    "populate(Child, [\n",
    "    {'id': 'FR',}, {'id': 'ES'}, {'id': 'IT'},{'id': 'EN'}\n",
    "])"
   ]
  },
  {
   "cell_type": "code",
   "execution_count": 49,
   "metadata": {},
   "outputs": [
    {
     "name": "stdout",
     "output_type": "stream",
     "text": [
      "2020-02-05 00:13:18,269 INFO sqlalchemy.engine.base.Engine BEGIN (implicit)\n",
      "2020-02-05 00:13:18,274 INFO sqlalchemy.engine.base.Engine SELECT \"left\".id AS left_id, \"left\".name AS left_name \n",
      "FROM \"left\" \n",
      "WHERE \"left\".id = %(id_1)s \n",
      " LIMIT %(param_1)s\n",
      "2020-02-05 00:13:18,276 INFO sqlalchemy.engine.base.Engine {'id_1': 1, 'param_1': 1}\n"
     ]
    }
   ],
   "source": [
    "p = s.session.query(Parent).filter_by(id=1).first()"
   ]
  },
  {
   "cell_type": "code",
   "execution_count": 50,
   "metadata": {},
   "outputs": [
    {
     "name": "stdout",
     "output_type": "stream",
     "text": [
      "2020-02-05 00:13:18,523 INFO sqlalchemy.engine.base.Engine SELECT \"right\".id AS right_id \n",
      "FROM \"right\", association \n",
      "WHERE %(param_1)s = association.left_id AND \"right\".id = association.right_id\n",
      "2020-02-05 00:13:18,525 INFO sqlalchemy.engine.base.Engine {'param_1': 1}\n"
     ]
    },
    {
     "data": {
      "text/plain": [
       "[]"
      ]
     },
     "execution_count": 50,
     "metadata": {},
     "output_type": "execute_result"
    }
   ],
   "source": [
    "p.children"
   ]
  },
  {
   "cell_type": "code",
   "execution_count": 51,
   "metadata": {},
   "outputs": [
    {
     "name": "stdout",
     "output_type": "stream",
     "text": [
      "2020-02-05 00:13:18,563 INFO sqlalchemy.engine.base.Engine SELECT \"right\".id AS right_id \n",
      "FROM \"right\" \n",
      "WHERE \"right\".id = %(id_1)s \n",
      " LIMIT %(param_1)s\n",
      "2020-02-05 00:13:18,565 INFO sqlalchemy.engine.base.Engine {'id_1': 'ES', 'param_1': 1}\n"
     ]
    }
   ],
   "source": [
    "p.children.append(s.session.query(Child).filter_by(id='ES').first())"
   ]
  },
  {
   "cell_type": "code",
   "execution_count": 52,
   "metadata": {},
   "outputs": [
    {
     "name": "stdout",
     "output_type": "stream",
     "text": [
      "2020-02-05 00:13:18,794 INFO sqlalchemy.engine.base.Engine INSERT INTO association (left_id, right_id) VALUES (%(left_id)s, %(right_id)s)\n",
      "2020-02-05 00:13:18,796 INFO sqlalchemy.engine.base.Engine {'left_id': 1, 'right_id': u'ES'}\n",
      "2020-02-05 00:13:18,800 INFO sqlalchemy.engine.base.Engine COMMIT\n"
     ]
    }
   ],
   "source": [
    "create(p)"
   ]
  },
  {
   "cell_type": "code",
   "execution_count": null,
   "metadata": {},
   "outputs": [],
   "source": []
  },
  {
   "cell_type": "code",
   "execution_count": null,
   "metadata": {},
   "outputs": [],
   "source": []
  },
  {
   "cell_type": "code",
   "execution_count": null,
   "metadata": {},
   "outputs": [],
   "source": []
  }
 ],
 "metadata": {
  "kernelspec": {
   "display_name": "Python 2",
   "language": "python",
   "name": "python2"
  },
  "language_info": {
   "codemirror_mode": {
    "name": "ipython",
    "version": 2
   },
   "file_extension": ".py",
   "mimetype": "text/x-python",
   "name": "python",
   "nbconvert_exporter": "python",
   "pygments_lexer": "ipython2",
   "version": "2.7.13"
  }
 },
 "nbformat": 4,
 "nbformat_minor": 2
}
