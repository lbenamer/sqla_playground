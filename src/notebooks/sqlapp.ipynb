{
 "cells": [
  {
   "cell_type": "code",
   "execution_count": 1,
   "metadata": {},
   "outputs": [],
   "source": [
    "from sqlalchemy import create_engine\n",
    "from sqlalchemy import Column, Integer, String, Text, DateTime, Float, Boolean, ForeignKey, Table\n",
    "from sqlalchemy.orm import relationship\n",
    "from sqlalchemy.orm import sessionmaker\n",
    "from sqlalchemy.ext.declarative import declarative_base\n",
    "import sys\n",
    "sys.path.append('../')\n",
    "from modules import SqlApp"
   ]
  },
  {
   "cell_type": "code",
   "execution_count": 2,
   "metadata": {},
   "outputs": [],
   "source": [
    "s = SqlApp()"
   ]
  },
  {
   "cell_type": "code",
   "execution_count": 3,
   "metadata": {},
   "outputs": [],
   "source": [
    "s.connect('postgresql://postgres@localhost:5532/sqlapp')"
   ]
  },
  {
   "cell_type": "code",
   "execution_count": 4,
   "metadata": {},
   "outputs": [],
   "source": [
    "populate = s.populate\n",
    "create = s.create\n",
    "Base = s.base"
   ]
  },
  {
   "cell_type": "code",
   "execution_count": 7,
   "metadata": {},
   "outputs": [],
   "source": [
    "# /!\\ DROP MODEL IN DB /!\\\n",
    "s.drop_models()"
   ]
  },
  {
   "cell_type": "markdown",
   "metadata": {},
   "source": [
    "## Many To One Relationship"
   ]
  },
  {
   "cell_type": "code",
   "execution_count": 8,
   "metadata": {},
   "outputs": [],
   "source": [
    "\"\"\"\n",
    "A basic Many to One Relationship\n",
    "\"\"\"\n",
    "\n",
    "class PlayerModel(Base):\n",
    "    \"\"\"Data model for players.\"\"\"\n",
    "    __tablename__ = \"players\"\n",
    "\n",
    "    id = Column(Integer,\n",
    "                primary_key=True,\n",
    "                nullable=False)\n",
    "    team_id = Column(Integer,\n",
    "                     ForeignKey('teams.id'),\n",
    "                     nullable=False)\n",
    "    name = Column(String(100),\n",
    "                  nullable=False)\n",
    "    position = Column(String(100),\n",
    "                      nullable=False)\n",
    "\n",
    "    # Relationships\n",
    "    team = relationship(\"TeamModel\", backref=\"players\")\n",
    "    \n",
    "    def __repr__(self):\n",
    "        return '<Person model {}>'.format(self.id)\n",
    "\n",
    "\n",
    "class TeamModel(Base):\n",
    "    \"\"\"Data model for people.\"\"\"\n",
    "    __tablename__ = \"teams\"\n",
    "\n",
    "    id = Column(Integer,\n",
    "                primary_key=True,\n",
    "                nullable=False,\n",
    "    )\n",
    "    name = Column(String(100),\n",
    "                  nullable=False)\n",
    "    city = Column(String(100),\n",
    "                  nullable=False)\n",
    "\n",
    "    def __repr__(self):\n",
    "        return '<Team model {}>'.format(self.id)"
   ]
  },
  {
   "cell_type": "code",
   "execution_count": 9,
   "metadata": {},
   "outputs": [],
   "source": [
    "# PlayerModel.__table__.drop(engine)\n",
    "# TeamModel.__table__.drop(engine)"
   ]
  },
  {
   "cell_type": "markdown",
   "metadata": {},
   "source": [
    "# Many 2 Many Relationship"
   ]
  },
  {
   "cell_type": "code",
   "execution_count": 10,
   "metadata": {},
   "outputs": [],
   "source": [
    "\n",
    "\n",
    "association_table = Table('association', Base.metadata,\n",
    "    Column('left_id', Integer, ForeignKey('left.id')),\n",
    "    Column('right_id', String, ForeignKey('right.id'))\n",
    ")\n",
    "\n",
    "\n",
    "class Parent(Base):\n",
    "    __tablename__ = 'left'\n",
    "    id = Column(Integer, primary_key=True)\n",
    "    name = Column(String, nullable=False)\n",
    "    children = relationship(\n",
    "        \"Child\",\n",
    "        secondary=association_table,\n",
    "        back_populates=\"parents\")\n",
    "\n",
    "\n",
    "class Child(Base):\n",
    "    __tablename__ = 'right'\n",
    "    id = Column(String, primary_key=True, )\n",
    "    parents = relationship(\n",
    "        \"Parent\",\n",
    "        secondary=association_table,\n",
    "        back_populates=\"children\")"
   ]
  },
  {
   "cell_type": "code",
   "execution_count": 12,
   "metadata": {},
   "outputs": [
    {
     "name": "stdout",
     "output_type": "stream",
     "text": [
      "2020-02-04 19:04:56,321 INFO sqlalchemy.engine.base.Engine select relname from pg_class c join pg_namespace n on n.oid=c.relnamespace where pg_catalog.pg_table_is_visible(c.oid) and relname=%(name)s\n",
      "2020-02-04 19:04:56,323 INFO sqlalchemy.engine.base.Engine {'name': u'players'}\n",
      "2020-02-04 19:04:56,335 INFO sqlalchemy.engine.base.Engine select relname from pg_class c join pg_namespace n on n.oid=c.relnamespace where pg_catalog.pg_table_is_visible(c.oid) and relname=%(name)s\n",
      "2020-02-04 19:04:56,337 INFO sqlalchemy.engine.base.Engine {'name': u'left'}\n",
      "2020-02-04 19:04:56,341 INFO sqlalchemy.engine.base.Engine select relname from pg_class c join pg_namespace n on n.oid=c.relnamespace where pg_catalog.pg_table_is_visible(c.oid) and relname=%(name)s\n",
      "2020-02-04 19:04:56,343 INFO sqlalchemy.engine.base.Engine {'name': u'right'}\n",
      "2020-02-04 19:04:56,347 INFO sqlalchemy.engine.base.Engine select relname from pg_class c join pg_namespace n on n.oid=c.relnamespace where pg_catalog.pg_table_is_visible(c.oid) and relname=%(name)s\n",
      "2020-02-04 19:04:56,349 INFO sqlalchemy.engine.base.Engine {'name': u'association'}\n",
      "2020-02-04 19:04:56,354 INFO sqlalchemy.engine.base.Engine select relname from pg_class c join pg_namespace n on n.oid=c.relnamespace where pg_catalog.pg_table_is_visible(c.oid) and relname=%(name)s\n",
      "2020-02-04 19:04:56,355 INFO sqlalchemy.engine.base.Engine {'name': u'teams'}\n"
     ]
    }
   ],
   "source": [
    "# /!\\ WRITE MODEL IN DB /!\\\n",
    "# Base.metadata.create_all(engine)\n",
    "s.create_models()"
   ]
  },
  {
   "cell_type": "code",
   "execution_count": 13,
   "metadata": {},
   "outputs": [
    {
     "name": "stdout",
     "output_type": "stream",
     "text": [
      "2020-02-04 19:05:07,009 INFO sqlalchemy.engine.base.Engine BEGIN (implicit)\n",
      "2020-02-04 19:05:07,012 INFO sqlalchemy.engine.base.Engine INSERT INTO teams (id, name, city) VALUES (%(id)s, %(name)s, %(city)s)\n",
      "2020-02-04 19:05:07,014 INFO sqlalchemy.engine.base.Engine ({'city': 'Paris', 'id': 1, 'name': 'PSG'}, {'city': 'Marseille', 'id': 2, 'name': 'OM'}, {'city': 'Lyon', 'id': 3, 'name': 'OL'}, {'city': 'Lille', 'id': 4, 'name': 'LOSC'})\n",
      "2020-02-04 19:05:07,027 INFO sqlalchemy.engine.base.Engine COMMIT\n"
     ]
    }
   ],
   "source": [
    "TEAMS = [\n",
    "    { 'name': 'PSG', 'city': 'Paris', 'id': 1},\n",
    "    { 'name': 'OM', 'city': 'Marseille', 'id': 2},\n",
    "    { 'name': 'OL', 'city': 'Lyon', 'id': 3},\n",
    "    { 'name': 'LOSC', 'city': 'Lille', 'id': 4},\n",
    "]\n",
    "populate(TeamModel, TEAMS)"
   ]
  },
  {
   "cell_type": "code",
   "execution_count": 14,
   "metadata": {},
   "outputs": [
    {
     "name": "stdout",
     "output_type": "stream",
     "text": [
      "2020-02-04 19:05:11,331 INFO sqlalchemy.engine.base.Engine BEGIN (implicit)\n",
      "2020-02-04 19:05:11,334 INFO sqlalchemy.engine.base.Engine INSERT INTO players (team_id, name, position) VALUES (%(team_id)s, %(name)s, %(position)s) RETURNING players.id\n",
      "2020-02-04 19:05:11,336 INFO sqlalchemy.engine.base.Engine {'position': '9', 'team_id': '1', 'name': 'Mbappe'}\n",
      "2020-02-04 19:05:11,344 INFO sqlalchemy.engine.base.Engine INSERT INTO players (team_id, name, position) VALUES (%(team_id)s, %(name)s, %(position)s) RETURNING players.id\n",
      "2020-02-04 19:05:11,345 INFO sqlalchemy.engine.base.Engine {'position': '7', 'team_id': '1', 'name': 'Neymar'}\n",
      "2020-02-04 19:05:11,349 INFO sqlalchemy.engine.base.Engine INSERT INTO players (team_id, name, position) VALUES (%(team_id)s, %(name)s, %(position)s) RETURNING players.id\n",
      "2020-02-04 19:05:11,350 INFO sqlalchemy.engine.base.Engine {'position': '8', 'team_id': '3', 'name': 'Diawara'}\n",
      "2020-02-04 19:05:11,357 INFO sqlalchemy.engine.base.Engine INSERT INTO players (team_id, name, position) VALUES (%(team_id)s, %(name)s, %(position)s) RETURNING players.id\n",
      "2020-02-04 19:05:11,359 INFO sqlalchemy.engine.base.Engine {'position': '9', 'team_id': '2', 'name': 'Benedeto'}\n",
      "2020-02-04 19:05:11,364 INFO sqlalchemy.engine.base.Engine INSERT INTO players (team_id, name, position) VALUES (%(team_id)s, %(name)s, %(position)s) RETURNING players.id\n",
      "2020-02-04 19:05:11,365 INFO sqlalchemy.engine.base.Engine {'position': '7', 'team_id': '2', 'name': 'Payet'}\n",
      "2020-02-04 19:05:11,373 INFO sqlalchemy.engine.base.Engine INSERT INTO players (team_id, name, position) VALUES (%(team_id)s, %(name)s, %(position)s) RETURNING players.id\n",
      "2020-02-04 19:05:11,374 INFO sqlalchemy.engine.base.Engine {'position': '10', 'team_id': '4', 'name': 'Pepe'}\n",
      "2020-02-04 19:05:11,379 INFO sqlalchemy.engine.base.Engine COMMIT\n"
     ]
    }
   ],
   "source": [
    "PLAYERS = [\n",
    "    {'name':'Mbappe', 'position': '9', 'team_id': '1'},\n",
    "    {'name':'Neymar', 'position': '7', 'team_id': '1'},\n",
    "    {'name':'Diawara', 'position': '8', 'team_id': '3'},\n",
    "    {'name':'Benedeto', 'position': '9', 'team_id': '2'},\n",
    "    {'name':'Payet', 'position': '7', 'team_id': '2'},\n",
    "    {'name':'Pepe', 'position': '10', 'team_id': '4'},\n",
    "]\n",
    "populate(PlayerModel, PLAYERS)"
   ]
  },
  {
   "cell_type": "code",
   "execution_count": 15,
   "metadata": {},
   "outputs": [
    {
     "name": "stdout",
     "output_type": "stream",
     "text": [
      "2020-02-04 19:05:15,193 INFO sqlalchemy.engine.base.Engine BEGIN (implicit)\n",
      "2020-02-04 19:05:15,195 INFO sqlalchemy.engine.base.Engine INSERT INTO \"left\" (id, name) VALUES (%(id)s, %(name)s)\n",
      "2020-02-04 19:05:15,198 INFO sqlalchemy.engine.base.Engine ({'id': 1, 'name': 'x'}, {'id': 2, 'name': 'y'})\n",
      "2020-02-04 19:05:15,216 INFO sqlalchemy.engine.base.Engine COMMIT\n",
      "2020-02-04 19:05:15,225 INFO sqlalchemy.engine.base.Engine BEGIN (implicit)\n",
      "2020-02-04 19:05:15,227 INFO sqlalchemy.engine.base.Engine INSERT INTO \"right\" (id) VALUES (%(id)s)\n",
      "2020-02-04 19:05:15,229 INFO sqlalchemy.engine.base.Engine ({'id': 'FR'}, {'id': 'ES'}, {'id': 'IT'}, {'id': 'EN'})\n",
      "2020-02-04 19:05:15,245 INFO sqlalchemy.engine.base.Engine COMMIT\n"
     ]
    }
   ],
   "source": [
    "populate(Parent, [{'id':1, 'name': 'x'}, {'id':2, 'name': 'y'}])\n",
    "populate(Child, [\n",
    "    {'id': 'FR',}, {'id': 'ES'}, {'id': 'IT'},{'id': 'EN'}\n",
    "])"
   ]
  },
  {
   "cell_type": "code",
   "execution_count": 16,
   "metadata": {},
   "outputs": [
    {
     "name": "stdout",
     "output_type": "stream",
     "text": [
      "2020-02-04 19:05:18,399 INFO sqlalchemy.engine.base.Engine BEGIN (implicit)\n",
      "2020-02-04 19:05:18,401 INFO sqlalchemy.engine.base.Engine SELECT \"left\".id AS left_id, \"left\".name AS left_name \n",
      "FROM \"left\" \n",
      "WHERE \"left\".id = %(id_1)s \n",
      " LIMIT %(param_1)s\n",
      "2020-02-04 19:05:18,403 INFO sqlalchemy.engine.base.Engine {'id_1': 1, 'param_1': 1}\n"
     ]
    }
   ],
   "source": [
    "p = s.session.query(Parent).filter_by(id=1).first()"
   ]
  },
  {
   "cell_type": "code",
   "execution_count": 17,
   "metadata": {},
   "outputs": [
    {
     "name": "stdout",
     "output_type": "stream",
     "text": [
      "2020-02-04 19:05:19,214 INFO sqlalchemy.engine.base.Engine SELECT \"right\".id AS right_id \n",
      "FROM \"right\", association \n",
      "WHERE %(param_1)s = association.left_id AND \"right\".id = association.right_id\n",
      "2020-02-04 19:05:19,216 INFO sqlalchemy.engine.base.Engine {'param_1': 1}\n"
     ]
    },
    {
     "data": {
      "text/plain": [
       "[]"
      ]
     },
     "execution_count": 17,
     "metadata": {},
     "output_type": "execute_result"
    }
   ],
   "source": [
    "p.children"
   ]
  },
  {
   "cell_type": "code",
   "execution_count": 18,
   "metadata": {},
   "outputs": [
    {
     "name": "stdout",
     "output_type": "stream",
     "text": [
      "2020-02-04 19:05:21,952 INFO sqlalchemy.engine.base.Engine SELECT \"right\".id AS right_id \n",
      "FROM \"right\" \n",
      "WHERE \"right\".id = %(id_1)s \n",
      " LIMIT %(param_1)s\n",
      "2020-02-04 19:05:21,954 INFO sqlalchemy.engine.base.Engine {'id_1': 'ES', 'param_1': 1}\n"
     ]
    }
   ],
   "source": [
    "p.children.append(s.session.query(Child).filter_by(id='ES').first())"
   ]
  },
  {
   "cell_type": "code",
   "execution_count": 19,
   "metadata": {},
   "outputs": [
    {
     "name": "stdout",
     "output_type": "stream",
     "text": [
      "2020-02-04 19:05:22,540 INFO sqlalchemy.engine.base.Engine INSERT INTO association (left_id, right_id) VALUES (%(left_id)s, %(right_id)s)\n",
      "2020-02-04 19:05:22,543 INFO sqlalchemy.engine.base.Engine {'left_id': 1, 'right_id': u'ES'}\n",
      "2020-02-04 19:05:22,549 INFO sqlalchemy.engine.base.Engine COMMIT\n"
     ]
    }
   ],
   "source": [
    "create(p)"
   ]
  },
  {
   "cell_type": "code",
   "execution_count": null,
   "metadata": {},
   "outputs": [],
   "source": []
  }
 ],
 "metadata": {
  "kernelspec": {
   "display_name": "Python 2",
   "language": "python",
   "name": "python2"
  },
  "language_info": {
   "codemirror_mode": {
    "name": "ipython",
    "version": 2
   },
   "file_extension": ".py",
   "mimetype": "text/x-python",
   "name": "python",
   "nbconvert_exporter": "python",
   "pygments_lexer": "ipython2",
   "version": "2.7.10"
  }
 },
 "nbformat": 4,
 "nbformat_minor": 2
}
